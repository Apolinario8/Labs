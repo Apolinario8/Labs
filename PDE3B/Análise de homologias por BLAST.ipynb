{
 "cells": [
  {
   "cell_type": "code",
   "execution_count": 1,
   "metadata": {},
   "outputs": [],
   "source": [
    "from Bio.Blast import NCBIXML \n",
    "from Bio.Blast import NCBIWWW \n",
    "from Bio import SeqIO \n",
    "from Bio import Entrez\n",
    "from Bio.Seq import Seq\n",
    "from Bio import SearchIO\n",
    "import re\n",
    "Entrez.email = \"goncalocardoso2016@gmail.com\""
   ]
  },
  {
   "attachments": {},
   "cell_type": "markdown",
   "metadata": {},
   "source": [
    "Gene PDE3B é demasiado grande para se efetuar blast"
   ]
  },
  {
   "attachments": {},
   "cell_type": "markdown",
   "metadata": {},
   "source": [
    "# Blastp"
   ]
  },
  {
   "cell_type": "code",
   "execution_count": 27,
   "metadata": {},
   "outputs": [],
   "source": [
    "record = SeqIO.read(open(\"cGMP-inhibited 3',5'-cyclic phosphodiesterase B isoform 2.fasta\"), format=\"fasta\")                     \n",
    "result_handle = NCBIWWW.qblast(\"blastp\", \"swissprot\", record.format(\"fasta\"), hitlist_size=80)"
   ]
  },
  {
   "cell_type": "code",
   "execution_count": 28,
   "metadata": {},
   "outputs": [],
   "source": [
    "save_file = open(\"blast_cGMP-inhibited 3',5'-cyclic phosphodiesterase B isoform 2_80.xml\", \"w\")\n",
    "save_file.write(result_handle.read())\n",
    "save_file.close()\n",
    "result_handle.close()"
   ]
  },
  {
   "cell_type": "code",
   "execution_count": 7,
   "metadata": {},
   "outputs": [
    {
     "name": "stdout",
     "output_type": "stream",
     "text": [
      "['Homo sapiens'] 100 %\n",
      "['Mus musculus'] 80 %\n",
      "['Rattus norvegicus'] 78 %\n",
      "['Homo sapiens'] 47 %\n",
      "['Mus musculus'] 47 %\n",
      "['Rattus norvegicus'] 47 %\n",
      "['Caenorhabditis elegans'] 46 %\n",
      "['Mus musculus'] 33 %\n",
      "['Homo sapiens'] 35 %\n",
      "['Homo sapiens'] 33 %\n",
      "['Mus musculus'] 35 %\n",
      "['Rattus norvegicus'] 32 %\n",
      "['Bos taurus'] 35 %\n",
      "['Homo sapiens'] 33 %\n",
      "['Mus musculus'] 33 %\n",
      "['Rattus norvegicus'] 33 %\n",
      "['Mus musculus'] 35 %\n",
      "['Caenorhabditis elegans'] 35 %\n",
      "['Rattus norvegicus'] 34 %\n",
      "['Mus musculus'] 32 %\n",
      "['Rattus norvegicus'] 33 %\n",
      "['Mus musculus'] 33 %\n",
      "['Cricetulus griseus'] 33 %\n",
      "['Homo sapiens'] 32 %\n",
      "['Bos taurus'] 34 %\n",
      "['Rattus norvegicus'] 32 %\n",
      "['Homo sapiens'] 34 %\n",
      "['Rattus norvegicus'] 33 %\n",
      "['Caenorhabditis elegans'] 32 %\n",
      "['Homo sapiens'] 33 %\n",
      "['Homo sapiens'] 31 %\n",
      "['Drosophila melanogaster'] 34 %\n",
      "['Drosophila melanogaster'] 32 %\n",
      "['Drosophila melanogaster'] 32 %\n",
      "['Drosophila melanogaster'] 32 %\n",
      "['Drosophila melanogaster'] 32 %\n",
      "['Caenorhabditis elegans'] 40 %\n",
      "['Dictyostelium discoideum'] 31 %\n",
      "['Dictyostelium discoideum'] 42 %\n",
      "['Plasmodium falciparum 3D7'] 32 %\n"
     ]
    }
   ],
   "source": [
    "result_handle = open(\"blast_cGMP-inhibited 3',5'-cyclic phosphodiesterase B isoform 2_80.xml\")\n",
    "blast_records = NCBIXML.parse(result_handle)\n",
    "E_VALUE_THRESH = 0.005\n",
    "organismos = []\n",
    "IDS = []\n",
    "identities = []\n",
    "for blast_record in blast_records:\n",
    "    for alignment in blast_record.alignments:\n",
    "        for hsp in alignment.hsps:\n",
    "            identity = round((hsp.identities / hsp.align_length) *100)\n",
    "            #coverage = (hsp.align_length / )*100\n",
    "            #print(identity)\n",
    "            #print(coverage, \"\\n\")\n",
    "            if hsp.expect < E_VALUE_THRESH:\n",
    "                if identity >30:\n",
    "                    if \"PREDICTED\" not in alignment.title:\n",
    "                        organismo = re.findall(r'([\\w\\s]+)]', alignment.title)\n",
    "                        organismos.append(organismo)\n",
    "                        IDS.append(alignment.hit_id)\n",
    "                        identities.append(identity)\n",
    "for x in range(len(organismos)):\n",
    "    print(organismos[x], identities[x],\"%\")\n",
    "\n",
    "\n"
   ]
  },
  {
   "cell_type": "code",
   "execution_count": 11,
   "metadata": {},
   "outputs": [
    {
     "name": "stdout",
     "output_type": "stream",
     "text": [
      "[['Homo sapiens'], ['Mus musculus'], ['Rattus norvegicus'], ['Caenorhabditis elegans'], ['Bos taurus'], ['Cricetulus griseus'], ['Drosophila melanogaster'], ['Dictyostelium discoideum'], ['Plasmodium falciparum 3D7']] ['sp|Q13370.2|', 'sp|Q61409.2|', 'sp|Q63085.1|', 'sp|Q8I0P7.4|', 'sp|P14100.3|', 'sp|Q64395.2|', 'sp|B7YZV4.1|', 'sp|Q86H13.2|', 'sp|Q8IKD3.2|']\n"
     ]
    }
   ],
   "source": [
    "organismos_unicos = []\n",
    "IDS_unicos = []\n",
    "for x in range(len(organismos)):\n",
    "    if organismos[x] not in organismos_unicos:\n",
    "        IDS_unicos.append(IDS[x])\n",
    "        organismos_unicos.append(organismos[x])\n",
    "\n",
    "print(organismos_unicos, IDS_unicos)\n",
    "\n"
   ]
  },
  {
   "cell_type": "code",
   "execution_count": 15,
   "metadata": {},
   "outputs": [],
   "source": [
    "entradas = []\n",
    "handle = Entrez.efetch(db=\"protein\", id=IDS_unicos, rettype=\"gb\", retmode=\"text\")\n",
    "record = SeqIO.parse(handle, \"gb\")\n",
    "for x in record:\n",
    "    #print(x.seq, '\\n')\n",
    "    entradas.append(x)"
   ]
  },
  {
   "cell_type": "code",
   "execution_count": 17,
   "metadata": {},
   "outputs": [
    {
     "data": {
      "text/plain": [
       "9"
      ]
     },
     "execution_count": 17,
     "metadata": {},
     "output_type": "execute_result"
    }
   ],
   "source": [
    "SeqIO.write(entradas, \"BlastpPDE3B.fasta\", \"fasta\")"
   ]
  },
  {
   "cell_type": "code",
   "execution_count": null,
   "metadata": {},
   "outputs": [],
   "source": []
  }
 ],
 "metadata": {
  "kernelspec": {
   "display_name": "Python 3",
   "language": "python",
   "name": "python3"
  },
  "language_info": {
   "codemirror_mode": {
    "name": "ipython",
    "version": 3
   },
   "file_extension": ".py",
   "mimetype": "text/x-python",
   "name": "python",
   "nbconvert_exporter": "python",
   "pygments_lexer": "ipython3",
   "version": "3.10.7"
  },
  "orig_nbformat": 4,
  "vscode": {
   "interpreter": {
    "hash": "4e1fc3fa23fb62f3f701e1450a48be1e01c4f473533356521fe76f63c343b8fd"
   }
  }
 },
 "nbformat": 4,
 "nbformat_minor": 2
}
