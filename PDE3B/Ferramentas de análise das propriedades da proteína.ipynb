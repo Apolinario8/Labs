{
 "cells": [
  {
   "cell_type": "code",
   "execution_count": null,
   "metadata": {},
   "outputs": [],
   "source": [
    "import gzip\n",
    "from urllib.request import urlopen\n",
    "from Bio import ExPASy\n",
    "from Bio import SwissProt\n",
    "from Bio import SeqIO"
   ]
  },
  {
   "cell_type": "code",
   "execution_count": null,
   "metadata": {},
   "outputs": [],
   "source": [
    "handle = ExPASy.get_sprot_raw(\"Q13370\") \n",
    "seq_record = SeqIO.read(handle, \"swiss\")\n",
    "print(\"Id:\", seq_record.id)\n",
    "print(\"Nome:\", seq_record.name)\n",
    "print(\"Descrição:\", seq_record.description)\n",
    "print(\"Sequência:\", (repr(seq_record.seq)))\n",
    "print(\"Length:\", len(seq_record))\n",
    "print(\"Keywords:\", seq_record.annotations[\"keywords\"])\n",
    "print(\"Taxonomia:\", seq_record.annotations[\"taxonomy\"])\n",
    "print(\"Organismo:\", seq_record.annotations[\"organism\"])\n"
   ]
  },
  {
   "cell_type": "code",
   "execution_count": null,
   "metadata": {},
   "outputs": [],
   "source": []
  },
  {
   "cell_type": "code",
   "execution_count": null,
   "metadata": {},
   "outputs": [],
   "source": []
  },
  {
   "cell_type": "code",
   "execution_count": null,
   "metadata": {},
   "outputs": [],
   "source": []
  },
  {
   "cell_type": "code",
   "execution_count": null,
   "metadata": {},
   "outputs": [],
   "source": []
  }
 ],
 "metadata": {
  "kernelspec": {
   "display_name": "Python 3",
   "language": "python",
   "name": "python3"
  },
  "language_info": {
   "name": "python",
   "version": "3.10.7 (tags/v3.10.7:6cc6b13, Sep  5 2022, 14:08:36) [MSC v.1933 64 bit (AMD64)]"
  },
  "orig_nbformat": 4,
  "vscode": {
   "interpreter": {
    "hash": "4e1fc3fa23fb62f3f701e1450a48be1e01c4f473533356521fe76f63c343b8fd"
   }
  }
 },
 "nbformat": 4,
 "nbformat_minor": 2
}
