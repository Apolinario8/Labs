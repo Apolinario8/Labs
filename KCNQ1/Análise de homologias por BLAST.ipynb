{
 "cells": [
  {
   "cell_type": "code",
   "execution_count": 1,
   "metadata": {},
   "outputs": [],
   "source": [
    "from Bio.Blast import NCBIXML \n",
    "from Bio.Blast import NCBIWWW \n",
    "from Bio import SeqIO \n",
    "from Bio import Entrez\n",
    "from Bio.Seq import Seq\n",
    "from Bio import SearchIO\n",
    "import re\n",
    "Entrez.email = \"goncalocardoso2016@gmail.com\""
   ]
  },
  {
   "attachments": {},
   "cell_type": "markdown",
   "metadata": {},
   "source": [
    "Gene PDE3B é demasiado grande para se efetuar blast"
   ]
  },
  {
   "attachments": {},
   "cell_type": "markdown",
   "metadata": {},
   "source": [
    "# Blastp"
   ]
  },
  {
   "cell_type": "code",
   "execution_count": 27,
   "metadata": {},
   "outputs": [],
   "source": [
    "record = SeqIO.read(open(\"cGMP-inhibited 3',5'-cyclic phosphodiesterase B isoform 2.fasta\"), format=\"fasta\")                     \n",
    "result_handle = NCBIWWW.qblast(\"blastp\", \"swissprot\", record.format(\"fasta\"), hitlist_size=80)"
   ]
  },
  {
   "cell_type": "code",
   "execution_count": 28,
   "metadata": {},
   "outputs": [],
   "source": [
    "save_file = open(\"blast_cGMP-inhibited 3',5'-cyclic phosphodiesterase B isoform 2_80.xml\", \"w\")\n",
    "save_file.write(result_handle.read())\n",
    "save_file.close()\n",
    "result_handle.close()"
   ]
  },
  {
   "cell_type": "code",
   "execution_count": 2,
   "metadata": {},
   "outputs": [
    {
     "name": "stdout",
     "output_type": "stream",
     "text": [
      "['Homo sapiens'] 100 %\n",
      "['Mus musculus'] 80 %\n",
      "['Rattus norvegicus'] 78 %\n",
      "['Homo sapiens'] 47 %\n",
      "['Mus musculus'] 47 %\n",
      "['Rattus norvegicus'] 47 %\n",
      "['Caenorhabditis elegans'] 46 %\n",
      "['Mus musculus'] 33 %\n",
      "['Homo sapiens'] 35 %\n",
      "['Homo sapiens'] 33 %\n",
      "['Mus musculus'] 35 %\n",
      "['Rattus norvegicus'] 32 %\n",
      "['Bos taurus'] 35 %\n",
      "['Homo sapiens'] 33 %\n",
      "['Mus musculus'] 33 %\n",
      "['Rattus norvegicus'] 33 %\n",
      "['Mus musculus'] 35 %\n",
      "['Caenorhabditis elegans'] 35 %\n",
      "['Rattus norvegicus'] 34 %\n",
      "['Mus musculus'] 32 %\n",
      "['Rattus norvegicus'] 33 %\n",
      "['Mus musculus'] 33 %\n",
      "['Cricetulus griseus'] 33 %\n",
      "['Homo sapiens'] 32 %\n",
      "['Bos taurus'] 34 %\n",
      "['Rattus norvegicus'] 32 %\n",
      "['Homo sapiens'] 34 %\n",
      "['Rattus norvegicus'] 33 %\n",
      "['Caenorhabditis elegans'] 32 %\n",
      "['Homo sapiens'] 33 %\n",
      "['Homo sapiens'] 31 %\n",
      "['Drosophila melanogaster'] 34 %\n",
      "['Drosophila melanogaster'] 32 %\n",
      "['Drosophila melanogaster'] 32 %\n",
      "['Drosophila melanogaster'] 32 %\n",
      "['Drosophila melanogaster'] 32 %\n",
      "['Caenorhabditis elegans'] 40 %\n",
      "['Dictyostelium discoideum'] 31 %\n",
      "['Dictyostelium discoideum'] 42 %\n",
      "['Plasmodium falciparum 3D7'] 32 %\n"
     ]
    }
   ],
   "source": [
    "result_handle = open(\"blast_cGMP-inhibited 3',5'-cyclic phosphodiesterase B isoform 2_80.xml\")\n",
    "blast_records = NCBIXML.parse(result_handle)\n",
    "E_VALUE_THRESH = 0.005\n",
    "organismos = []\n",
    "IDS = []\n",
    "identities = []\n",
    "HSPs = []\n",
    "for blast_record in blast_records:\n",
    "    for alignment in blast_record.alignments:\n",
    "        for hsp in alignment.hsps:\n",
    "            identity = round((hsp.identities / hsp.align_length) *100)\n",
    "            if hsp.expect < E_VALUE_THRESH:\n",
    "                if identity >30:\n",
    "                    if \"PREDICTED\" not in alignment.title:\n",
    "                        #print(hsp)\n",
    "                        organismo = re.findall(r'([\\w\\s]+)]', alignment.title)\n",
    "                        organismos.append(organismo)\n",
    "                        HSPs.append(hsp.sbjct)\n",
    "                        IDS.append(alignment.hit_id)\n",
    "                        identities.append(identity)\n",
    "for x in range(len(organismos)):\n",
    "    print(organismos[x], identities[x],\"%\")\n",
    "\n",
    "\n"
   ]
  },
  {
   "cell_type": "code",
   "execution_count": 3,
   "metadata": {},
   "outputs": [
    {
     "name": "stdout",
     "output_type": "stream",
     "text": [
      "[['Homo sapiens'], ['Mus musculus'], ['Rattus norvegicus'], ['Caenorhabditis elegans'], ['Bos taurus'], ['Cricetulus griseus'], ['Drosophila melanogaster'], ['Dictyostelium discoideum'], ['Plasmodium falciparum 3D7']] ['sp|Q13370.2|', 'sp|Q61409.2|', 'sp|Q63085.1|', 'sp|Q8I0P7.4|', 'sp|P14100.3|', 'sp|Q64395.2|', 'sp|B7YZV4.1|', 'sp|Q86H13.2|', 'sp|Q8IKD3.2|'] ['MRRDERDAKAMRSLQPPDGAGSPPESLRNGYVKSCVSPLRQDPPRGFFFHLCRFCNVELRPPPASPQQPRRCSPFCRARLSLGALAAFVLALLLGAEPESWAAGAAWLRTLLSVCSHSLSPLFSIACAFFFLTCFLTRTKRGPGPGRSCGSWWLLALPACCYLGDFLVWQWWSWPWGDGDAGSAAPHTPPEAAAGRLLLVLSCVGLLLTLAHPLRLRHCVLVLLLASFVWWVSFTSLGSLPSALRPLLSGLVGGAGCLLALGLDHFFQIREAPLHPRLSSAAEEKVPVIRPRRRSSCVSLGETAASYYGSCKIFRRPSLPCISREQMILWDWDLKQWYKPHYQNSGGGNGVDLSVLNEARNMVSDLLTDPSLPPQVISSLRSISSLMGAFSGSCRPKINPLTPFPGFYPCSEIEDPAEKGDRKLNKGLNRNSLPTPQLRRSSGTSGLLPVEQSSRWDRNNGKRPHQEFGISSQGCYLNGPFNSNLLTIPKQRSSSVSLTHHVGLRRAGVLSSLSPVNSSNHGPVSTGSLTNRSPIEFPDTADFLNKPSVILQRSLGNAPNTPDFYQQLRNSDSNLCNSCGHQMLKYVSTSESDGTDCCSGKSGEEENIFSKESFKLMETQQEEETEKKDSRKLFQEGDKWLTEEAQSEQQTNIEQEVSLDLILVEEYDSLIEKMSNWNFPIFELVEKMGEKSGRILSQVMYTLFQDTGLLEIFKIPTQQFMNYFRALENGYRDIPYHNRIHATDVLHAVWYLTTRPVPGLQQIHNGCGTGNETDSDGRINHGRIAYISSKSCSNPDESYGCLSSNIPALELMALYVAAAMHDYDHPGRTNAFLVATNAPQAVLYNDRSVLENHHAASAWNLYLSRPEYNFLLHLDHVEFKRFRFLVIEAILATDLKKHFDFLAEFNAKANDVNSNGIEWSNENDRLLVCQVCIKLADINGPAKVRDLHLKWTEGIVNEFYEQGDEEANLGLPISPFMDRSSPQLAKLQESFITHIVGPLCNSYDAAGLLPGQWLEAEEDNDTESGDDEDGEELDTEDEEMENNLNPKPPRRKSRRRIFCQLMHHLTENHKIWKEIVEEEEKCKADGNKLQVENSSLPQADEIQVIEEADEEE', 'ESLRNGYVKSCVSPLRQDPPRSFFFHLCRFCNVE--PPAASLR--------AGARLSLGVLAAFVLAALLGARPERWAAAAAGLRTLLSACSLSLSPLFSIACAFFFLTCFLTRAQRGPG--RGAGSWWLLALPACCYLGDFAAWQWWSWLRGE------------PAAAGRLCLVLSCVGLL-TLAPRVRLRHGVLVLLFAGLVWWVSFSGLGALPPALRPLLSCLVGGAGCLLALGLDHFFHVRGASPPPRSASTAEEKVPVIRPRRRSSCVSLGESAAGYYGSGKMFRRPSLPCISREQMILWDWDLKQWCKPHYQNSGGGNGVDLSVLNEARNMVSDLLIDPSLPPQVISSLRSISSLMGAFSGSCRPKINSFTPFPGFYPCSEVEDPVEKGDRKLHKGLSGRTSFPTPQLRRSSGASSLLTNEHCSRWDRSSGKRSYQELSVSSHGCHLNGPFSSNLFTIPKQRSSSVSLTHHAGLRRAGALPSHSLLNSSSHVPVSAGSLTNRSPIGFPDTTDFLTKPNIILHRSLGSVSSAADFHQYLRNSDSNLCSSCGHQILKYVSTCEPDGTDHPSEKSGEEDSSVFSKEPLNIVETQ-EEETMKKACRELFLEGDSHLMEEAQ---QPNIDQEVSLDPMLVEDYDSLIEKMNNWNFQIFELVEKMGEKSGRILSQVMYTLFQDTGLLETFKIPTQEFMNYFRALENGYRDIPYHNRVHATDVLHAVWYLTTRPIPGLPQIHNNHETETKADSDGRLGSGQIAYISSKSCCIPDMSYGCLSSNIPALELMALYVAAAMHDYDHPGRTNAFLVATNAPQAVLYNDRSVLENHHAASAWNLYLSRPEYNFLLNLDHMEFKRFRFLVIEAILATDLKKHFDFLAEFNAKANDVNSNGIEWSSENDRLLVCQVCIKLADINGPAKDRDLHLRWTEGIVNEFYEQGDEEAALGLPISPFMDRSSPQLAKLQESFITHIVGPLCNSYDAAGLLPGQWIETEEGDDTESDDDDDDDDGDGGEELDSDDEETEDNLNPKPQRRKGRRRIFCQLMHHLTENHKIWKEIIEEEEEKCKAEGNKLQVDNASLPQADEIQVI', 'MRKDERERDTPAMRSPPPPPPPATATAASPPESLRNGYVKSCVSPLRQDPPRSFFFHLCRFCNVE--PPAASLRA--------GARLSLAALAAFVLAALLGAGPERWAAAATGLRTLLSACSLSLSPLFSIACAFFFLTCFLTRAQRGPD--RGAGSWWLLALPACCYLGDFAAWQWWSWLRGE----------PAAAAAGRLCLVLSCVGLL-TLAPRVRLRHGVLVLLFAGLVWWVSFSGLGALPPALRPLLSCLVGGAGCLLALGLDHFFHVRGASPPPRSASTADEKVPVIRPRRRSSCVSLGESAAGYYGSGKMFRRPSLPCISREQMILWDWDLKQWCKPHYQNSGGGNGVDLSVLNEARNMVSDLLIDPSLPPQVISSLRSISSLMGAFSGSCRPKINSFTPFPGFYPCSEVEDPVEKGDRKLHKGLSSKPSFPTAQLRRSSGASGLLTSEHHSRWDRSGGKRPYQELSVSSHGCHLNGPFSSNLMTIPKQRSSSVSLTHHAGLRRAGALPSPSLLNSSSHVPVSAGCLTNRSPVGFLDTSDFLTKPSVTLHRSLGSVSSAADFHQYLRNSDSSLCSSCGHQILKYVSTCEPDGTDHHNEKSGEEDSTVFSKERLNIVETQ-EEETVKEDCRELFLEGDDHLMEEAQ---QPNIDQEVLLDPMLVEDYDSLIEKMSNWNFQIFELVEKMGEKSGRILSQVMYTLFQDTGLLETFKIPTQEFMNYFRALENGYRDIPYHNRVHATDVLHAVWYLTTRPIPGLQQLHNNHETETKADSDARLSSGQIAYLSSKSCCIPDKSYGCLSSNIPALELMALYVAAAMHDYDHPGRTNAFLVATNAPQAVLYNDRSVLENHHAASAWNLYLSRPEYNFLLNLDHMEFKRFRFLVIEAILATDLKKHFDFLAEFNAKANDVNSNGIEWSSENDRLLVCQVCIKLADINGPAKDRDLHLRWTEGIVNEFYEQGDEEATLGLPISPFMDRSSPQLAKLQESFITHIVGPLCNSYDAAGLLPGQWIEAEEGDDTESDDDDDDDDDDDDDDDEELDSDDEETEDNLNPKPQRRKGRRRIFCQLMHHLTENHKIWKEIIEEEEKCKAEGNKLQVDNASLPQADEIQVI', 'DTDPDLAETAVWSFPIFQMSRKHPQT---ILSRLTYNIFQQAELFRIFKVSPIKFFNFFHALEKGYWEIPYHNRIHAADVLHGCYYLSAHPV-------------------------RSTFLTPKTPDSVLTPPHPHHQHSSIMSQLSTLELMALFTAAAMHDYDHPGRTNAFLVQVEDKKAILYNDRSVLENHHAAESWKL-LNKPENHFIENLDPAEMKRFRYLVLEYILATDLKQHFEIIMTFTERLTE-----IDVQVETDRLLIGKLLIKMADINSPTKPYGLHRQWTDRICEEFYEQGDDERRRGLPITPYMDRGDAQVAKLQDSFIAHVVSPLATAMNECGLLP', 'LKDVDKWSFDVFALNEASGEHSLKFM---IYELFTRYDLINRFKIPVSCLIAFAEALEVGYSKYKNPYHNLIHAADVTQTVHYI---------MLHTG------------IMHW-----------------------LTELEILAMVFAAAIHDYEHTGTTNNFHIQTRSDVAILYNDRSVLENHHVSAAYRL-MQEEEMNVLINLSKDDWRDLRNLVIEMVLSTDMSGHFQQIKNIR--------NSLQQPEGLDKAKTMSLILHAADISHPAKSWKLHHRWTMALMEEFFLQGDKEAELGLPFSPLCDRKSTMVAQSQIGFIDFIVEP', 'LKNLDLWCFDVFSLNRAADDHALRT---IVFELLTRHSLISRFKIPTVFLMSFLEALETGYGKYKNPYHNQIHAADVTQTVHCFLLRT--------------------GMVH--------------------CLSE----IEVLAIIFAAAIHDYEHTGTTNSFHIQTKSECAILYNDRSVLENHHISSVFRM-MQDDEMNIFINLTKDEFVELRALVIEMVLATDMSCHFQQVKSMK--------TALQQLERIDKSKALSLLLHAADISHPTKQWSVHSRWTKALMEEFFRQGDKEAELGLPFSPLCDRTSTLVAQSQIGFIDFIVEP', 'LLKNLDDWTFDVFALTEA---ASGQVVKYVAYELFNRYGSIHKFKIAPGILEAFLHRVEEGYCRYRN-PYHNNLHAVDVMQTIHYCL-------------CNTG-------------------------------LMNWLTDLEIFASLLAALLHDYEHTGTTNNFHVMSGSETALLYNDRAVLENHHASASFRL-LREDEYNILSHLSREEFRELRGLVIEMVLGTDMTNHFQQMKAMR-QLLTLQEATI------DKQKVLSLVLHCCDISHPAKQWGVHHRWTMLLLEEFFRQGDLEKELGLPFSPLCDRNNTLVAESQICFIDFIVEP', 'IINNFLEWDFPVFQLSEI---TDGNPLFYMSYFLFSRHKFFEKFKIGIDCFKNFMRKIESGYDSTNPYHNSIHATDVLHNLNYFI------------------------------------------EKSFGKFLTDI---ELFSMILAAIIHDFKHPGVNNHFQINSKSRLALKYNDKSILENYHLHQAF-IIMNEPESGILLKLSDSVRKEIRETIIALVLSTDMAKHFNLVGRFKSMAN', 'IASIAHDVGHPGKTNSYLSETNHILSIRYNDMSILENYHCSITFSI-LQLIGFDFLINNEDTKLVEKNNYTNMRKFIIELIISTDMKLHFEYVDIFKKRKKSQNFD----ISDTDAINLGTINIKLADIGHTCLKWKD-HAKWTMLVSEEFFSQKRVE']\n"
     ]
    }
   ],
   "source": [
    "organismos_unicos = []\n",
    "IDS_unicos = []\n",
    "HSPs_unicos = []\n",
    "for x in range(len(organismos)):\n",
    "    if organismos[x] not in organismos_unicos:\n",
    "        IDS_unicos.append(IDS[x])\n",
    "        organismos_unicos.append(organismos[x])\n",
    "        HSPs_unicos.append(HSPs[x])\n",
    "\n",
    "print(organismos_unicos, IDS_unicos, HSPs_unicos)\n",
    "\n"
   ]
  },
  {
   "cell_type": "code",
   "execution_count": 4,
   "metadata": {},
   "outputs": [
    {
     "name": "stdout",
     "output_type": "stream",
     "text": [
      "['Homo_sapiens', 'Mus_musculus', 'Rattus_norvegicus', 'Caenorhabditis_elegans', 'Bos_taurus', 'Cricetulus_griseus', 'Drosophila_melanogaster', 'Dictyostelium_discoideum', 'Plasmodium_falciparum_3D7']\n"
     ]
    }
   ],
   "source": [
    "organismos_unicos1 = []\n",
    "for x in range(len(organismos_unicos)):\n",
    "    organismos_unicos1.append(organismos_unicos[x][0].replace(\" \", \"_\"))\n",
    "print(organismos_unicos1)\n",
    "    "
   ]
  },
  {
   "cell_type": "code",
   "execution_count": 6,
   "metadata": {},
   "outputs": [],
   "source": [
    "ficheiro = open(\"homologos_PDE3B.fasta\", \"w\")\n",
    "for x in range(len(organismos_unicos1)):\n",
    "        ficheiro.write(\">\" + organismos_unicos1[x] + \"\\n\"+ HSPs_unicos[x] + \"\\n\")"
   ]
  },
  {
   "cell_type": "code",
   "execution_count": null,
   "metadata": {},
   "outputs": [],
   "source": []
  }
 ],
 "metadata": {
  "kernelspec": {
   "display_name": "Python 3",
   "language": "python",
   "name": "python3"
  },
  "language_info": {
   "codemirror_mode": {
    "name": "ipython",
    "version": 3
   },
   "file_extension": ".py",
   "mimetype": "text/x-python",
   "name": "python",
   "nbconvert_exporter": "python",
   "pygments_lexer": "ipython3",
   "version": "3.10.7"
  },
  "orig_nbformat": 4,
  "vscode": {
   "interpreter": {
    "hash": "4e1fc3fa23fb62f3f701e1450a48be1e01c4f473533356521fe76f63c343b8fd"
   }
  }
 },
 "nbformat": 4,
 "nbformat_minor": 2
}
