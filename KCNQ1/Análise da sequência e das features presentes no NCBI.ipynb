{
 "cells": [
  {
   "cell_type": "code",
   "execution_count": 1,
   "metadata": {},
   "outputs": [],
   "source": [
    "from Bio import Entrez\n",
    "from Bio import SeqIO\n",
    "from Bio import Seq\n",
    "Entrez.email = \"joanaoliveira1000@gmail.com\""
   ]
  },
  {
   "cell_type": "code",
   "execution_count": 2,
   "metadata": {},
   "outputs": [],
   "source": [
    "id_ncbi = \"NC_000011.10\"\n",
    "inicio = \"2445008\"\n",
    "fim = \"2849110\""
   ]
  },
  {
   "cell_type": "code",
   "execution_count": 4,
   "metadata": {},
   "outputs": [
    {
     "name": "stdout",
     "output_type": "stream",
     "text": [
      "ID: NC_000011.10\n",
      "Name: NC_000011\n",
      "Description: Homo sapiens chromosome 11, GRCh38.p14 Primary Assembly\n",
      "Database cross-references: BioProject:PRJNA168, Assembly:GCF_000001405.40\n",
      "Number of features: 39\n",
      "/molecule_type=DNA\n",
      "/topology=linear\n",
      "/data_file_division=CON\n",
      "/date=06-APR-2022\n",
      "/accessions=['NC_000011', 'REGION:', '2445008..2849110']\n",
      "/sequence_version=10\n",
      "/keywords=['RefSeq']\n",
      "/source=Homo sapiens (human)\n",
      "/organism=Homo sapiens\n",
      "/taxonomy=['Eukaryota', 'Metazoa', 'Chordata', 'Craniata', 'Vertebrata', 'Euteleostomi', 'Mammalia', 'Eutheria', 'Euarchontoglires', 'Primates', 'Haplorrhini', 'Catarrhini', 'Hominidae', 'Homo']\n",
      "/references=[Reference(title='Human chromosome 11 DNA sequence and analysis including novel gene identification', ...), Reference(title='Finishing the euchromatic sequence of the human genome', ...), Reference(title='Initial sequencing and analysis of the human genome', ...)]\n",
      "/comment=REFSEQ INFORMATION: The reference sequence is identical to\n",
      "CM000673.2.\n",
      "On Feb 3, 2014 this sequence version replaced NC_000011.9.\n",
      "Assembly Name: GRCh38.p14 Primary Assembly\n",
      "The DNA sequence is composed of genomic sequence, primarily\n",
      "finished clones that were sequenced as part of the Human Genome\n",
      "Project. PCR products and WGS shotgun sequence have been added\n",
      "where necessary to fill gaps or correct errors. All such additions\n",
      "are manually curated by GRC staff. For more information see:\n",
      "https://genomereference.org.\n",
      "/structured_comment=defaultdict(<class 'dict'>, {'Genome-Annotation-Data': {'Annotation Provider': 'NCBI', 'Annotation Status': 'Full annotation', 'Annotation Name': 'Homo sapiens Annotation Release 110', 'Annotation Version': '110', 'Annotation Pipeline': 'NCBI eukaryotic genome annotation pipeline', 'Annotation Software Version': '9.0', 'Annotation Method': 'Best-placed RefSeq; Gnomon', 'Features Annotated': 'Gene; mRNA; CDS; ncRNA'}})\n",
      "Seq('AGTGGCTGCCCGCACTGCGCCCGGGCGCTCGCCTTCGCTGCAGCTCCCGGTGCC...CTA')\n"
     ]
    }
   ],
   "source": [
    "handle = Entrez.efetch(db=\"nucleotide\", rettype=\"gb\", retmode=\"text\", id=id_ncbi, seq_start = inicio, seq_stop = fim)\n",
    "seq_record = SeqIO.read(handle, \"gb\")\n",
    "print(seq_record)"
   ]
  },
  {
   "cell_type": "code",
   "execution_count": 6,
   "metadata": {},
   "outputs": [
    {
     "data": {
      "text/plain": [
       "1"
      ]
     },
     "execution_count": 6,
     "metadata": {},
     "output_type": "execute_result"
    }
   ],
   "source": [
    "SeqIO.write(seq_record, \"KCNQ1.gb\", \"genbank\")"
   ]
  },
  {
   "cell_type": "code",
   "execution_count": 7,
   "metadata": {},
   "outputs": [
    {
     "data": {
      "text/plain": [
       "'Homo sapiens chromosome 11, GRCh38.p14 Primary Assembly'"
      ]
     },
     "execution_count": 7,
     "metadata": {},
     "output_type": "execute_result"
    }
   ],
   "source": [
    "seq_record = SeqIO.read(\"KCNQ1.gb\", \"gb\")\n",
    "seq_record.description"
   ]
  },
  {
   "cell_type": "code",
   "execution_count": 8,
   "metadata": {},
   "outputs": [
    {
     "name": "stdout",
     "output_type": "stream",
     "text": [
      "39\n"
     ]
    }
   ],
   "source": [
    "print(len(seq_record.features))\n"
   ]
  },
  {
   "cell_type": "code",
   "execution_count": 9,
   "metadata": {},
   "outputs": [
    {
     "name": "stdout",
     "output_type": "stream",
     "text": [
      "source : [0:404103](+) \n",
      "\n",
      "gene : [0:404103](+) \n",
      "\n",
      "mRNA : join{[0:477](+), [82920:83011](+), [125620:125747](+), [126317:126396](+), [127005:127102](+), [127838:127979](+), [138427:138538](+), [140204:140300](+), [142562:142685](+), [143705:143847](+), [216953:217074](+), [323836:323912](+), [330952:331047](+), [331978:332025](+), [332968:333030](+), [402759:404098](+)} \n",
      "\n",
      "CDS : join{[91:477](+), [82920:83011](+), [125620:125747](+), [126317:126396](+), [127005:127102](+), [127838:127979](+), [138427:138538](+), [140204:140300](+), [142562:142685](+), [143705:143847](+), [216953:217074](+), [323836:323912](+), [330952:331047](+), [331978:332025](+), [332968:333030](+), [402759:402996](+)} \n",
      "\n",
      "misc_feature : [91:175](+) \n",
      "\n",
      "misc_feature : [169:172](+) \n",
      "\n",
      "misc_feature : [274:343](+) \n",
      "\n",
      "misc_feature : join{[454:477](+), [82920:82960](+)} \n",
      "\n",
      "misc_feature : join{[82975:83011](+), [125620:125647](+)} \n",
      "\n",
      "misc_feature : join{[125731:125747](+), [126317:126364](+)} \n",
      "\n",
      "misc_feature : join{[126388:126396](+), [127005:127066](+)} \n",
      "\n",
      "misc_feature : [127841:127904](+) \n",
      "\n",
      "misc_feature : [127922:127925](+) \n",
      "\n",
      "misc_feature : [138439:138457](+) \n",
      "\n",
      "misc_feature : join{[138487:138538](+), [140204:140216](+)} \n",
      "\n",
      "misc_feature : join{[140279:140300](+), [142562:142580](+)} \n",
      "\n",
      "misc_feature : [142652:142655](+) \n",
      "\n",
      "misc_feature : [142658:142661](+) \n",
      "\n",
      "misc_feature : [323864:323909](+) \n",
      "\n",
      "misc_feature : join{[330964:331047](+), [331978:332009](+)} \n",
      "\n",
      "misc_feature : join{[332997:333030](+), [402759:402813](+)} \n",
      "\n",
      "misc_feature : join{[333000:333030](+), [402759:402825](+)} \n",
      "\n",
      "misc_feature : [402822:402993](+) \n",
      "\n",
      "mRNA : join{[16446:16707](+), [82920:83011](+), [125620:125747](+), [126317:126396](+), [127005:127102](+), [127838:127979](+), [138427:138538](+), [140204:140300](+), [142562:142685](+), [143705:143847](+), [216953:217074](+), [323836:323912](+), [330952:331047](+), [331978:332025](+), [332968:333030](+), [402759:404103](+)} \n",
      "\n",
      "CDS : join{[16702:16707](+), [82920:83011](+), [125620:125747](+), [126317:126396](+), [127005:127102](+), [127838:127979](+), [138427:138538](+), [140204:140300](+), [142562:142685](+), [143705:143847](+), [216953:217074](+), [323836:323912](+), [330952:331047](+), [331978:332025](+), [332968:333030](+), [402759:402996](+)} \n",
      "\n",
      "sig_peptide : join{[16702:16707](+), [82920:82963](+)} \n",
      "\n",
      "gene : [64453:66584](-) \n",
      "\n",
      "ncRNA : join{[66452:66584](-), [65146:65270](-), [64453:64719](-)} \n",
      "\n",
      "misc_feature : [121491:121786](+) \n",
      "\n",
      "regulatory : [121491:121786](+) \n",
      "\n",
      "gene : [163320:254991](-) \n",
      "\n",
      "ncRNA : [163320:254991](-) \n",
      "\n",
      "misc_feature : [255187:256427](+) \n",
      "\n",
      "regulatory : [255187:256427](+) \n",
      "\n",
      "gene : [326348:326570](+) \n",
      "\n",
      "gene : [349087:355117](-) \n",
      "\n",
      "ncRNA : join{[354018:355117](-), [353367:353539](-), [349087:349168](-)} \n",
      "\n",
      "gene : [395127:>404103](-) \n",
      "\n",
      "ncRNA : [395127:>395435](-) \n",
      "\n"
     ]
    }
   ],
   "source": [
    "for k in seq_record.features: \n",
    "    print(k.type,\":\", k.location, \"\\n\")"
   ]
  },
  {
   "cell_type": "code",
   "execution_count": 10,
   "metadata": {},
   "outputs": [
    {
     "name": "stdout",
     "output_type": "stream",
     "text": [
      "Número de CDS: 2\n",
      "\n",
      "3\n",
      "Localização:\n",
      "join{[91:477](+), [82920:83011](+), [125620:125747](+), [126317:126396](+), [127005:127102](+), [127838:127979](+), [138427:138538](+), [140204:140300](+), [142562:142685](+), [143705:143847](+), [216953:217074](+), [323836:323912](+), [330952:331047](+), [331978:332025](+), [332968:333030](+), [402759:402996](+)}\n",
      "Sequência: ATGGCCGCGGCCTCCTCCCCGCCCAGGGCCGAGAGGAAGCGCTGGGGTTGGGGCCGCCTGCCAGGCGCCCGGCGGGGCAGCGCGGGCCTGGCCAAGAAGTGCCCCTTCTCGCTGGAGCTGGCGGAGGGCGGCCCGGCGGGCGGCGCGCTCTACGCGCCCATCGCGCCCGGCGCCCCAGGTCCCGCGCCCCCTGCGTCCCCGGCCGCGCCCGCCGCGCCCCCAGTTGCCTCCGACCTTGGCCCGCGGCCGCCGGTGAGCCTAGACCCGCGCGTCTCCATCTACAGCACGCGCCGCCCGGTGTTGGCGCGCACCCACGTCCAGGGCCGCGTCTACAACTTCCTCGAGCGTCCCACCGGCTGGAAATGCTTCGTTTACCACTTCGCCGTCTTCCTCATCGTCCTGGTCTGCCTCATCTTCAGCGTGCTGTCCACCATCGAGCAGTATGCCGCCCTGGCCACGGGGACTCTCTTCTGGATGGAGATCGTGCTGGTGGTGTTCTTCGGGACGGAGTACGTGGTCCGCCTCTGGTCCGCCGGCTGCCGCAGCAAGTACGTGGGCCTCTGGGGGCGGCTGCGCTTTGCCCGGAAGCCCATTTCCATCATCGACCTCATCGTGGTCGTGGCCTCCATGGTGGTCCTCTGCGTGGGCTCCAAGGGGCAGGTGTTTGCCACGTCGGCCATCAGGGGCATCCGCTTCCTGCAGATCCTGAGGATGCTACACGTCGACCGCCAGGGAGGCACCTGGAGGCTCCTGGGCTCCGTGGTCTTCATCCACCGCCAGGAGCTGATAACCACCCTGTACATCGGCTTCCTGGGCCTCATCTTCTCCTCGTACTTTGTGTACCTGGCTGAGAAGGACGCGGTGAACGAGTCAGGCCGCGTGGAGTTCGGCAGCTACGCAGATGCGCTGTGGTGGGGGGTGGTCACAGTCACCACCATCGGCTATGGGGACAAGGTGCCCCAGACGTGGGTCGGGAAGACCATCGCCTCCTGCTTCTCTGTCTTTGCCATCTCCTTCTTTGCGCTCCCAGCGGGGATTCTTGGCTCGGGGTTTGCCCTGAAGGTGCAGCAGAAGCAGAGGCAGAAGCACTTCAACCGGCAGATCCCGGCGGCAGCCTCACTCATTCAGACCGCATGGAGGTGCTATGCTGCCGAGAACCCCGACTCCTCCACCTGGAAGATCTACATCCGGAAGGCCCCCCGGAGCCACACTCTGCTGTCACCCAGCCCCAAACCCAAGAAGTCTGTGGTGGTAAAGAAAAAAAAGTTCAAGCTGGACAAAGACAATGGGGTGACTCCTGGAGAGAAGATGCTCACAGTCCCCCATATCACGTGCGACCCCCCAGAAGAGCGGCGGCTGGACCACTTCTCTGTCGACGGCTATGACAGTTCTGTAAGGAAGAGCCCAACACTGCTGGAAGTGAGCATGCCCCATTTCATGAGAACCAACAGCTTCGCCGAGGACCTGGACCTGGAAGGGGAGACTCTGCTGACACCCATCACCCACATCTCACAGCTGCGGGAACACCATCGGGCCACCATTAAGGTCATTCGACGCATGCAGTACTTTGTGGCCAAGAAGAAATTCCAGCAAGCGCGGAAGCCTTACGATGTGCGGGACGTCATTGAGCAGTACTCGCAGGGCCACCTCAACCTCATGGTGCGCATCAAGGAGCTGCAGAGGAGGCTGGACCAGTCCATTGGGAAGCCCTCACTGTTCATCTCCGTCTCAGAAAAGAGCAAGGATCGCGGCAGCAACACGATCGGCGCCCGCCTGAACCGAGTAGAAGACAAGGTGACGCAGCTGGACCAGAGGCTGGCACTCATCACCGACATGCTTCACCAGCTGCTCTCCTTGCACGGTGGCAGCACCCCCGGCAGCGGCGGCCCCCCCAGAGAGGGCGGGGCCCACATCACCCAGCCCTGCGGCAGTGGCGGCTCCGTCGACCCTGAGCTCTTCCTGCCCAGCAACACCCTGCCCACCTACGAGCAGCTGACCGTGCCCAGGAGGGGCCCCGATGAGGGGTCCTGA \n",
      "\n",
      "24\n",
      "Localização:\n",
      "join{[16702:16707](+), [82920:83011](+), [125620:125747](+), [126317:126396](+), [127005:127102](+), [127838:127979](+), [138427:138538](+), [140204:140300](+), [142562:142685](+), [143705:143847](+), [216953:217074](+), [323836:323912](+), [330952:331047](+), [331978:332025](+), [332968:333030](+), [402759:402996](+)}\n",
      "Sequência: ATGGACTTCCTCATCGTCCTGGTCTGCCTCATCTTCAGCGTGCTGTCCACCATCGAGCAGTATGCCGCCCTGGCCACGGGGACTCTCTTCTGGATGGAGATCGTGCTGGTGGTGTTCTTCGGGACGGAGTACGTGGTCCGCCTCTGGTCCGCCGGCTGCCGCAGCAAGTACGTGGGCCTCTGGGGGCGGCTGCGCTTTGCCCGGAAGCCCATTTCCATCATCGACCTCATCGTGGTCGTGGCCTCCATGGTGGTCCTCTGCGTGGGCTCCAAGGGGCAGGTGTTTGCCACGTCGGCCATCAGGGGCATCCGCTTCCTGCAGATCCTGAGGATGCTACACGTCGACCGCCAGGGAGGCACCTGGAGGCTCCTGGGCTCCGTGGTCTTCATCCACCGCCAGGAGCTGATAACCACCCTGTACATCGGCTTCCTGGGCCTCATCTTCTCCTCGTACTTTGTGTACCTGGCTGAGAAGGACGCGGTGAACGAGTCAGGCCGCGTGGAGTTCGGCAGCTACGCAGATGCGCTGTGGTGGGGGGTGGTCACAGTCACCACCATCGGCTATGGGGACAAGGTGCCCCAGACGTGGGTCGGGAAGACCATCGCCTCCTGCTTCTCTGTCTTTGCCATCTCCTTCTTTGCGCTCCCAGCGGGGATTCTTGGCTCGGGGTTTGCCCTGAAGGTGCAGCAGAAGCAGAGGCAGAAGCACTTCAACCGGCAGATCCCGGCGGCAGCCTCACTCATTCAGACCGCATGGAGGTGCTATGCTGCCGAGAACCCCGACTCCTCCACCTGGAAGATCTACATCCGGAAGGCCCCCCGGAGCCACACTCTGCTGTCACCCAGCCCCAAACCCAAGAAGTCTGTGGTGGTAAAGAAAAAAAAGTTCAAGCTGGACAAAGACAATGGGGTGACTCCTGGAGAGAAGATGCTCACAGTCCCCCATATCACGTGCGACCCCCCAGAAGAGCGGCGGCTGGACCACTTCTCTGTCGACGGCTATGACAGTTCTGTAAGGAAGAGCCCAACACTGCTGGAAGTGAGCATGCCCCATTTCATGAGAACCAACAGCTTCGCCGAGGACCTGGACCTGGAAGGGGAGACTCTGCTGACACCCATCACCCACATCTCACAGCTGCGGGAACACCATCGGGCCACCATTAAGGTCATTCGACGCATGCAGTACTTTGTGGCCAAGAAGAAATTCCAGCAAGCGCGGAAGCCTTACGATGTGCGGGACGTCATTGAGCAGTACTCGCAGGGCCACCTCAACCTCATGGTGCGCATCAAGGAGCTGCAGAGGAGGCTGGACCAGTCCATTGGGAAGCCCTCACTGTTCATCTCCGTCTCAGAAAAGAGCAAGGATCGCGGCAGCAACACGATCGGCGCCCGCCTGAACCGAGTAGAAGACAAGGTGACGCAGCTGGACCAGAGGCTGGCACTCATCACCGACATGCTTCACCAGCTGCTCTCCTTGCACGGTGGCAGCACCCCCGGCAGCGGCGGCCCCCCCAGAGAGGGCGGGGCCCACATCACCCAGCCCTGCGGCAGTGGCGGCTCCGTCGACCCTGAGCTCTTCCTGCCCAGCAACACCCTGCCCACCTACGAGCAGCTGACCGTGCCCAGGAGGGGCCCCGATGAGGGGTCCTGA \n",
      "\n"
     ]
    }
   ],
   "source": [
    "cds = []\n",
    "for i in range(len(seq_record.features)):\n",
    "    if seq_record.features[i].type == \"CDS\":\n",
    "        cds.append(i)\n",
    "print(\"Número de CDS:\", len(cds))\n",
    "print()\n",
    "#print(cds)\n",
    "for k in cds:\n",
    "    print(k)\n",
    "    print(\"Localização:\")\n",
    "    print(seq_record.features[k].location)\n",
    "    print(\"Sequência:\", seq_record.features[k].extract(seq_record.seq), \"\\n\")"
   ]
  },
  {
   "attachments": {},
   "cell_type": "markdown",
   "metadata": {},
   "source": [
    "# Tipo de Features"
   ]
  },
  {
   "cell_type": "code",
   "execution_count": 19,
   "metadata": {},
   "outputs": [
    {
     "name": "stdout",
     "output_type": "stream",
     "text": [
      "Número de genes: 6\n",
      "Número de mRNA: 2\n",
      "Número de regulatory: 2\n",
      "Número de ncRNA: 4\n",
      "Número de CDS: 2\n",
      "Número de misc_feature: 21\n",
      "Número de source: 1\n",
      "Número de sigpeptide: 1\n"
     ]
    }
   ],
   "source": [
    "genes = [] \n",
    "mrna = []  \n",
    "regulatory = []\n",
    "ncRNA = []\n",
    "cds = []\n",
    "miscfeature = []\n",
    "source = []\n",
    "sigpeptide = []\n",
    "for c in range(len(seq_record.features)):\n",
    "    if seq_record.features[c].type == \"gene\":\n",
    "        genes.append(c)\n",
    "    if seq_record.features[c].type == \"mRNA\":\n",
    "        mrna.append(c)\n",
    "    if seq_record.features[c].type == \"regulatory\":\n",
    "        regulatory.append(c)\n",
    "    if seq_record.features[c].type == \"ncRNA\":\n",
    "        ncRNA.append(c)\n",
    "    if seq_record.features[c].type == \"CDS\":\n",
    "        cds.append(c)\n",
    "    if seq_record.features[c].type == \"misc_feature\":\n",
    "        miscfeature.append(c)\n",
    "    if seq_record.features[c].type == \"source\":\n",
    "        source.append(c)\n",
    "    if seq_record.features[c].type == \"sig_peptide\":\n",
    "        sigpeptide.append(c)\n",
    "\n",
    "print(\"Número de genes:\", len(genes))\n",
    "print(\"Número de mRNA:\", len(mrna))\n",
    "print(\"Número de regulatory:\", len(regulatory))\n",
    "print(\"Número de ncRNA:\",len(ncRNA))\n",
    "print(\"Número de CDS:\",len(cds))\n",
    "print(\"Número de misc_feature:\", len(miscfeature))\n",
    "print(\"Número de source:\", len(source))\n",
    "print(\"Número de sigpeptide:\", len(sigpeptide))"
   ]
  },
  {
   "cell_type": "code",
   "execution_count": 20,
   "metadata": {},
   "outputs": [
    {
     "name": "stdout",
     "output_type": "stream",
     "text": [
      "Isoformas \n",
      "\n",
      "Protein_id: NP_000209.2\n",
      "Produto: potassium voltage-gated channel subfamily KQT member 1 isoform 1\n",
      "Sequência: MAAASSPPRAERKRWGWGRLPGARRGSAGLAKKCPFSLELAEGGPAGGALYAPIAPGAPGPAPPASPAAPAAPPVASDLGPRPPVSLDPRVSIYSTRRPVLARTHVQGRVYNFLERPTGWKCFVYHFAVFLIVLVCLIFSVLSTIEQYAALATGTLFWMEIVLVVFFGTEYVVRLWSAGCRSKYVGLWGRLRFARKPISIIDLIVVVASMVVLCVGSKGQVFATSAIRGIRFLQILRMLHVDRQGGTWRLLGSVVFIHRQELITTLYIGFLGLIFSSYFVYLAEKDAVNESGRVEFGSYADALWWGVVTVTTIGYGDKVPQTWVGKTIASCFSVFAISFFALPAGILGSGFALKVQQKQRQKHFNRQIPAAASLIQTAWRCYAAENPDSSTWKIYIRKAPRSHTLLSPSPKPKKSVVVKKKKFKLDKDNGVTPGEKMLTVPHITCDPPEERRLDHFSVDGYDSSVRKSPTLLEVSMPHFMRTNSFAEDLDLEGETLLTPITHISQLREHHRATIKVIRRMQYFVAKKKFQQARKPYDVRDVIEQYSQGHLNLMVRIKELQRRLDQSIGKPSLFISVSEKSKDRGSNTIGARLNRVEDKVTQLDQRLALITDMLHQLLSLHGGSTPGSGGPPREGGAHITQPCGSGGSVDPELFLPSNTLPTYEQLTVPRRGPDEGS\n",
      "Tamanho: 676 \n",
      "\n",
      "Protein_id: NP_861463.1\n",
      "Produto: potassium voltage-gated channel subfamily KQT member 1 isoform 2 precursor\n",
      "Sequência: MDFLIVLVCLIFSVLSTIEQYAALATGTLFWMEIVLVVFFGTEYVVRLWSAGCRSKYVGLWGRLRFARKPISIIDLIVVVASMVVLCVGSKGQVFATSAIRGIRFLQILRMLHVDRQGGTWRLLGSVVFIHRQELITTLYIGFLGLIFSSYFVYLAEKDAVNESGRVEFGSYADALWWGVVTVTTIGYGDKVPQTWVGKTIASCFSVFAISFFALPAGILGSGFALKVQQKQRQKHFNRQIPAAASLIQTAWRCYAAENPDSSTWKIYIRKAPRSHTLLSPSPKPKKSVVVKKKKFKLDKDNGVTPGEKMLTVPHITCDPPEERRLDHFSVDGYDSSVRKSPTLLEVSMPHFMRTNSFAEDLDLEGETLLTPITHISQLREHHRATIKVIRRMQYFVAKKKFQQARKPYDVRDVIEQYSQGHLNLMVRIKELQRRLDQSIGKPSLFISVSEKSKDRGSNTIGARLNRVEDKVTQLDQRLALITDMLHQLLSLHGGSTPGSGGPPREGGAHITQPCGSGGSVDPELFLPSNTLPTYEQLTVPRRGPDEGS\n",
      "Tamanho: 549 \n",
      "\n"
     ]
    }
   ],
   "source": [
    "print(\"\"\"Isoformas\"\"\", \"\\n\")\n",
    "for k in cds: \n",
    "    print(\"Protein_id:\", *seq_record.features[k].qualifiers[\"protein_id\"])\n",
    "    print(\"Produto:\", *seq_record.features[k].qualifiers[\"product\"])\n",
    "    print(\"Sequência:\", *seq_record.features[k].qualifiers[\"translation\"])\n",
    "    print(\"Tamanho:\", len(*seq_record.features[k].qualifiers[\"translation\"]), '\\n')"
   ]
  },
  {
   "cell_type": "code",
   "execution_count": 21,
   "metadata": {},
   "outputs": [],
   "source": [
    "proteinas = []\n",
    "id_proteinas = []\n",
    "for k in cds:\n",
    "    proteinas.append(*seq_record.features[k].qualifiers[\"translation\"])\n",
    "    id_proteinas.append(*seq_record.features[k].qualifiers[\"protein_id\"])"
   ]
  },
  {
   "cell_type": "code",
   "execution_count": 22,
   "metadata": {},
   "outputs": [
    {
     "name": "stdout",
     "output_type": "stream",
     "text": [
      "1\n",
      "['KCNQ1']\n",
      "-1\n",
      "['LOC124902613']\n",
      "-1\n",
      "['KCNQ1OT1']\n",
      "1\n",
      "['COX6CP18']\n",
      "-1\n",
      "['LOC124902614']\n",
      "-1\n",
      "['KCNQ1-AS1']\n"
     ]
    }
   ],
   "source": [
    "genes = []\n",
    "for i in range(len(seq_record.features)):\n",
    "    if seq_record.features[i].type == \"gene\":\n",
    "        genes.append(i)\n",
    "for k in genes:\n",
    "    print(seq_record.features[k].location.strand)\n",
    "    print(seq_record.features[k].qualifiers[\"gene\"])"
   ]
  },
  {
   "attachments": {},
   "cell_type": "markdown",
   "metadata": {},
   "source": [
    "# Proteína"
   ]
  },
  {
   "attachments": {},
   "cell_type": "markdown",
   "metadata": {},
   "source": [
    "Isoforma de interesse biológico segundo a literatura: potassium voltage-gated channel subfamily KQT member 1 isoform 1(NP_000209.2)"
   ]
  },
  {
   "cell_type": "code",
   "execution_count": 25,
   "metadata": {},
   "outputs": [
    {
     "name": "stdout",
     "output_type": "stream",
     "text": [
      "ID: NP_000209.2\n",
      "Name: NP_000209\n",
      "Description: potassium voltage-gated channel subfamily KQT member 1 isoform 1 [Homo sapiens]\n",
      "Number of features: 24\n",
      "/topology=linear\n",
      "/data_file_division=PRI\n",
      "/date=28-DEC-2022\n",
      "/accessions=['NP_000209']\n",
      "/sequence_version=2\n",
      "/db_source=REFSEQ: accession NM_000218.3\n",
      "/keywords=['RefSeq', 'MANE Select']\n",
      "/source=Homo sapiens (human)\n",
      "/organism=Homo sapiens\n",
      "/taxonomy=['Eukaryota', 'Metazoa', 'Chordata', 'Craniata', 'Vertebrata', 'Euteleostomi', 'Mammalia', 'Eutheria', 'Euarchontoglires', 'Primates', 'Haplorrhini', 'Catarrhini', 'Hominidae', 'Homo']\n",
      "/references=[Reference(title='Purification and membrane interactions of human KCNQ1100-370 potassium ion channel', ...), Reference(title=\"To Modify or Not to Modify: Allele-Specific Effects of 3'UTR-KCNQ1 Single Nucleotide Polymorphisms on Clinical Phenotype in a Long QT 1 Founder Population Segregating a Dominant-Negative Mutation\", ...), Reference(title='KCNJ11 and KCNQ1 Gene Polymorphisms and Placental Expression in Women with Gestational Diabetes Mellitus', ...), Reference(title='Epigenetics of imprinted long noncoding RNAs', ...), Reference(title='Human KVLQT1 gene shows tissue-specific imprinting and encompasses Beckwith-Wiedemann syndrome chromosomal rearrangements', ...), Reference(title='Evidence of a long QT founder gene with varying phenotypic expression in South African families', ...), Reference(title='Positional cloning of a novel potassium channel gene: KVLQT1 mutations cause cardiac arrhythmias', ...), Reference(title='Jervell and Lange-Nielsen Syndrome', ...), Reference(title='Beckwith-Wiedemann Syndrome', ...), Reference(title='Long QT Syndrome', ...)]\n",
      "/comment=REVIEWED REFSEQ: This record has been curated by NCBI staff. The\n",
      "reference sequence was derived from AF000571.1, AI439544.1,\n",
      "BC017074.1 and AI473902.1.\n",
      "On Jul 8, 2003 this sequence version replaced NP_000209.1.\n",
      "Summary: This gene encodes a voltage-gated potassium channel\n",
      "required for repolarization phase of the cardiac action potential.\n",
      "This protein can form heteromultimers with two other potassium\n",
      "channel proteins, KCNE1 and KCNE3. Mutations in this gene are\n",
      "associated with hereditary long QT syndrome 1 (also known as\n",
      "Romano-Ward syndrome), Jervell and Lange-Nielsen syndrome, and\n",
      "familial atrial fibrillation. This gene exhibits tissue-specific\n",
      "imprinting, with preferential expression from the maternal allele\n",
      "in some tissues, and biallelic expression in others. This gene is\n",
      "located in a region of chromosome 11 amongst other imprinted genes\n",
      "that are associated with Beckwith-Wiedemann syndrome (BWS), and\n",
      "itself has been shown to be disrupted by chromosomal rearrangements\n",
      "in patients with BWS. Alternatively spliced transcript variants\n",
      "have been found for this gene. [provided by RefSeq, Aug 2011].\n",
      "Transcript Variant: This variant (1) encodes the longer isoform\n",
      "(1).\n",
      "Publication Note:  This RefSeq record includes a subset of the\n",
      "publications that are available for this gene. Please see the Gene\n",
      "record to access additional publications.\n",
      "/structured_comment=defaultdict(<class 'dict'>, {'Evidence-Data': {'Transcript exon combination': 'AF000571.1, U89364.1 [ECO:0000332]', 'RNAseq introns': 'single sample supports all introns SAMEA1966682, SAMEA1968540 [ECO:0000348]'}, 'RefSeq-Attributes': {'imprinted gene': 'PMID: 9020845, 19617707', 'MANE Ensembl match': 'ENST00000155840.12/ ENSP00000155840.2', 'RefSeq Select criteria': 'based on conservation, expression, longest protein'}})\n",
      "/molecule_type=protein\n",
      "Seq('MAAASSPPRAERKRWGWGRLPGARRGSAGLAKKCPFSLELAEGGPAGGALYAPI...EGS')\n"
     ]
    }
   ],
   "source": [
    "Entrez.email = \"joanaoliveira1000@@gmail.com\"             \n",
    "handle = Entrez.efetch(db=\"protein\", rettype=\"gb\", retmode=\"text\", id=\"NP_000209.2\")\n",
    "seq_record_pro = SeqIO.read(handle, \"gb\")\n",
    "print(seq_record_pro)"
   ]
  },
  {
   "attachments": {},
   "cell_type": "markdown",
   "metadata": {},
   "source": [
    "Guardar sequência da proteína em formato fasta"
   ]
  },
  {
   "cell_type": "code",
   "execution_count": 26,
   "metadata": {},
   "outputs": [
    {
     "data": {
      "text/plain": [
       "1"
      ]
     },
     "execution_count": 26,
     "metadata": {},
     "output_type": "execute_result"
    }
   ],
   "source": [
    "SeqIO.write(seq_record_pro, \"potassium voltage-gated channel subfamily KQT member 1 isoform 1.fasta\", \"fasta\")"
   ]
  },
  {
   "attachments": {},
   "cell_type": "markdown",
   "metadata": {},
   "source": [
    "Referências externas"
   ]
  },
  {
   "cell_type": "code",
   "execution_count": 27,
   "metadata": {},
   "outputs": [
    {
     "name": "stdout",
     "output_type": "stream",
     "text": [
      "['BioProject:PRJNA168', 'Assembly:GCF_000001405.40']\n"
     ]
    }
   ],
   "source": [
    "ref_externas =seq_record.dbxrefs\n",
    "print(ref_externas)"
   ]
  }
 ],
 "metadata": {
  "kernelspec": {
   "display_name": "Python 3",
   "language": "python",
   "name": "python3"
  },
  "language_info": {
   "codemirror_mode": {
    "name": "ipython",
    "version": 3
   },
   "file_extension": ".py",
   "mimetype": "text/x-python",
   "name": "python",
   "nbconvert_exporter": "python",
   "pygments_lexer": "ipython3",
   "version": "3.10.8"
  },
  "orig_nbformat": 4,
  "vscode": {
   "interpreter": {
    "hash": "3c32c0614abf3f383ac5434e7f67efdcfdcd21ab2cebdd1098cd7517da000a33"
   }
  }
 },
 "nbformat": 4,
 "nbformat_minor": 2
}
