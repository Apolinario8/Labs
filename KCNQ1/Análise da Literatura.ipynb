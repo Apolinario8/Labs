{
 "cells": [
  {
   "cell_type": "code",
   "execution_count": 1,
   "metadata": {},
   "outputs": [],
   "source": [
    "from Bio import Entrez\n",
    "from Bio import SeqIO\n",
    "from Bio import Seq\n",
    "from Bio import Medline\n",
    "import re\n",
    "Entrez.email = \"goncalocardoso2016@gmail.com\" "
   ]
  },
  {
   "attachments": {},
   "cell_type": "markdown",
   "metadata": {},
   "source": [
    "# Pesquisa genérica "
   ]
  },
  {
   "cell_type": "code",
   "execution_count": 7,
   "metadata": {},
   "outputs": [],
   "source": [
    "gene = \"PDE3B Homo sapiens\"\n",
    "diabetes = \"PDE3B diabetes Homo sapiens\"\n",
    "cAMP = \"PDE3B and cAMP Homo sapiens\"\n",
    "cancro = \"PDE3B and malignant tumor Homo sapiens\""
   ]
  },
  {
   "cell_type": "code",
   "execution_count": 44,
   "metadata": {},
   "outputs": [
    {
     "name": "stdout",
     "output_type": "stream",
     "text": [
      "['34986332', '34764459', '32089240', '30580553', '22001403', '30275531', '34875679', '31176020', '17368848', '35813615']\n"
     ]
    }
   ],
   "source": [
    "handle = Entrez.esearch(db = \"pubmed\", term = gene, retmax = 10, sort = \"relevance\")\n",
    "record = Entrez.read(handle)\n",
    "handle.close()\n",
    "id_list = record['IdList']\n",
    "print(id_list)"
   ]
  },
  {
   "cell_type": "code",
   "execution_count": 45,
   "metadata": {},
   "outputs": [
    {
     "name": "stdout",
     "output_type": "stream",
     "text": [
      "Artigos \n",
      "\n",
      "PubMedID: 34986332\n",
      "Título: FGF1 and insulin control lipolysis by convergent pathways.\n",
      "Autores: ['Sancar G', 'Liu S', 'Gasser E', 'Alvarez JG', 'Moutos C', 'Kim K', 'van Zutphen T', 'Wang Y', 'Huddy TF', 'Ross B', 'Dai Y', 'Zepeda D', 'Collins B', 'Tilley E', 'Kolar MJ', 'Yu RT', 'Atkins AR', 'van Dijk TH', 'Saghatelian A', 'Jonker JW', 'Downes M', 'Evans RM']\n",
      "Source: Cell Metab. 2022 Jan 4;34(1):171-183.e6. doi: 10.1016/j.cmet.2021.12.004. \n",
      "\n",
      "PubMedID: 34764459\n",
      "Título: Connecting copper and cancer: from transition metal signalling to metalloplasia.\n",
      "Autores: ['Ge EJ', 'Bush AI', 'Casini A', 'Cobine PA', 'Cross JR', 'DeNicola GM', 'Dou QP', 'Franz KJ', 'Gohil VM', 'Gupta S', 'Kaler SG', 'Lutsenko S', 'Mittal V', 'Petris MJ', 'Polishchuk R', 'Ralle M', 'Schilsky ML', 'Tonks NK', 'Vahdat LT', 'Van Aelst L', 'Xi D', 'Yuan P', 'Brady DC', 'Chang CJ']\n",
      "Source: Nat Rev Cancer. 2022 Feb;22(2):102-113. doi: 10.1038/s41568-021-00417-2. Epub 2021 Nov 11. \n",
      "\n",
      "PubMedID: 32089240\n",
      "Título: Astragaloside IV derived from Astragalus membranaceus: A research review on the pharmacological effects.\n",
      "Autores: ['Zhang J', 'Wu C', 'Gao L', 'Du G', 'Qin X']\n",
      "Source: Adv Pharmacol. 2020;87:89-112. doi: 10.1016/bs.apha.2019.08.002. Epub 2019 Dec 18. \n",
      "\n",
      "PubMedID: 30580553\n",
      "Título: n-3 Polyunsaturated fatty acids for the management of alcoholic liver disease: A critical review.\n",
      "Autores: ['Wang M', 'Ma LJ', 'Yang Y', 'Xiao Z', 'Wan JB']\n",
      "Source: Crit Rev Food Sci Nutr. 2019;59(sup1):S116-S129. doi: 10.1080/10408398.2018.1544542. Epub 2018 Dec 22. \n",
      "\n",
      "PubMedID: 22001403\n",
      "Título: From PDE3B to the regulation of energy homeostasis.\n",
      "Autores: ['Degerman E', 'Ahmad F', 'Chung YW', 'Guirguis E', 'Omar B', 'Stenson L', 'Manganiello V']\n",
      "Source: Curr Opin Pharmacol. 2011 Dec;11(6):676-82. doi: 10.1016/j.coph.2011.09.015. Epub 2011 Oct 14. \n",
      "\n",
      "PubMedID: 30275531\n",
      "Título: Genetics of blood lipids among ~300,000 multi-ethnic participants of the Million Veteran Program.\n",
      "Autores: ['Klarin D', 'Damrauer SM', 'Cho K', 'Sun YV', 'Teslovich TM', 'Honerlaw J', 'Gagnon DR', 'DuVall SL', 'Li J', 'Peloso GM', 'Chaffin M', 'Small AM', 'Huang J', 'Tang H', 'Lynch JA', 'Ho YL', 'Liu DJ', 'Emdin CA', 'Li AH', 'Huffman JE', 'Lee JS', 'Natarajan P', 'Chowdhury R', 'Saleheen D', 'Vujkovic M', 'Baras A', 'Pyarajan S', 'Di Angelantonio E', 'Neale BM', 'Naheed A', 'Khera AV', 'Danesh J', 'Chang KM', 'Abecasis G', 'Willer C', 'Dewey FE', 'Carey DJ', 'Concato J', 'Gaziano JM', \"O'Donnell CJ\", 'Tsao PS', 'Kathiresan S', 'Rader DJ', 'Wilson PWF', 'Assimes TL']\n",
      "Source: Nat Genet. 2018 Nov;50(11):1514-1523. doi: 10.1038/s41588-018-0222-9. Epub 2018 Oct 1. \n",
      "\n",
      "PubMedID: 34875679\n",
      "Título: Identification of Rare Loss-of-Function Genetic Variation Regulating Body Fat Distribution.\n",
      "Autores: ['Koprulu M', 'Zhao Y', 'Wheeler E', 'Dong L', 'Rocha N', 'Li C', 'Griffin JD', 'Patel S', 'Van de Streek M', 'Glastonbury CA', 'Stewart ID', 'Day FR', 'Luan J', 'Bowker N', 'Wittemans LBL', 'Kerrison ND', 'Cai L', 'Lucarelli DME', 'Barroso I', 'McCarthy MI', 'Scott RA', 'Saudek V', 'Small KS', 'Wareham NJ', 'Semple RK', 'Perry JRB', \"O'Rahilly S\", 'Lotta LA', 'Langenberg C', 'Savage DB']\n",
      "Source: J Clin Endocrinol Metab. 2022 Mar 24;107(4):1065-1077. doi: 10.1210/clinem/dgab877. \n",
      "\n",
      "PubMedID: 31176020\n",
      "Título: Phosphodiesterase 3B (PDE3B) antagonizes the anti-angiogenic actions of PKA in human and murine endothelial cells.\n",
      "Autores: ['MacKeil JL', 'Brzezinska P', 'Burke-Kleinman J', 'Theilmann AL', 'Nicol CJB', 'Ormiston ML', 'Maurice DH']\n",
      "Source: Cell Signal. 2019 Oct;62:109342. doi: 10.1016/j.cellsig.2019.06.007. Epub 2019 Jun 5. \n",
      "\n",
      "PubMedID: 17368848\n",
      "Título: Beta-cell PDE3B regulates Ca2+-stimulated exocytosis of insulin.\n",
      "Autores: ['Walz HA', 'Wierup N', 'Vikman J', 'Manganiello VC', 'Degerman E', 'Eliasson L', 'Holst LS']\n",
      "Source: Cell Signal. 2007 Jul;19(7):1505-13. doi: 10.1016/j.cellsig.2007.01.030. Epub 2007 Feb 12. \n",
      "\n",
      "PubMedID: 35813615\n",
      "Título: Pathogenesis of Primary Aldosteronism: Impact on Clinical Outcome.\n",
      "Autores: ['Santana LS', 'Guimaraes AG', 'Almeida MQ']\n",
      "Source: Front Endocrinol (Lausanne). 2022 Jun 23;13:927669. doi: 10.3389/fendo.2022.927669. eCollection 2022. \n",
      "\n"
     ]
    }
   ],
   "source": [
    "handle = Entrez.efetch(db=\"pubmed\", id=id_list, rettype=\"medline\", retmode=\"text\")\n",
    "records = list(Medline.parse(handle))\n",
    "print(\"Artigos\", \"\\n\")\n",
    "for record in records:\n",
    "    print(\"PubMedID:\", record['PMID'])\n",
    "    print(\"Título:\", record['TI'])\n",
    "    print(\"Autores:\", record['AU'])\n",
    "    print(\"Source:\", record['SO'],'\\n')"
   ]
  },
  {
   "attachments": {},
   "cell_type": "markdown",
   "metadata": {},
   "source": [
    "Extração dos ids referentes ao PMC (se possível)"
   ]
  },
  {
   "cell_type": "code",
   "execution_count": 11,
   "metadata": {},
   "outputs": [
    {
     "name": "stdout",
     "output_type": "stream",
     "text": [
      "['PMC8863067', 'PMC8810673', 'PMC3225700', 'PMC6521726', 'PMC8947777', 'PMC9261097']\n"
     ]
    }
   ],
   "source": [
    "PMCID = []\n",
    "for id in id_list:\n",
    "    try:\n",
    "        handle = Entrez.efetch(db=\"pubmed\", id=id, retmode=\"xml\") \n",
    "        record = Entrez.read(handle)\n",
    "        record = str(record)\n",
    "        result = re.findall(r\"StringElement\\('(PMC[\\d]+)',\\sattributes={'IdType':\\s'pmc'}\\)\", record)\n",
    "        PMCID.append(result[-1])\n",
    "    except: pass"
   ]
  },
  {
   "attachments": {},
   "cell_type": "markdown",
   "metadata": {},
   "source": [
    "Download dos artigos PMC em formato PDF "
   ]
  },
  {
   "cell_type": "code",
   "execution_count": 17,
   "metadata": {},
   "outputs": [],
   "source": [
    "import requests\n",
    "from bs4 import BeautifulSoup\n",
    "from requests_html import HTMLSession\n",
    "from requests.exceptions import ConnectionError\n"
   ]
  },
  {
   "cell_type": "code",
   "execution_count": 43,
   "metadata": {},
   "outputs": [],
   "source": [
    "s = HTMLSession()\n",
    "headers = {'user-agent': 'Mozilla/5.0 (Windows NT 10.0; Win64; x64) AppleWebKit/537.36 (KHTML, like Gecko) Chrome/109.0.0.0 Safari/537.36'}\n",
    "for pmc in PMCID:\n",
    "    try:\n",
    "        url = \"https://pubmed.ncbi.nlm.nih.gov/pmc/articles/\"\n",
    "        r = s.get(url + pmc + \"/\", headers=headers, timeout=5)\n",
    "        pdf_url = 'https://www.ncbi.nlm.nih.gov' + r.html.find('a', first=True).attrs['href']\n",
    "        r = s.get(pdf_url, stream=True)\n",
    "        with open(id + '.pdf', 'wb') as f:\n",
    "            for chunk in r.iter_content(chunk_size=1024):\n",
    "                if chunk:\n",
    "                    f.write(chunk)\n",
    "\n",
    "    except ConnectionError as e:\n",
    "        continue\n"
   ]
  },
  {
   "cell_type": "code",
   "execution_count": null,
   "metadata": {},
   "outputs": [],
   "source": [
    "url = \"https://pubmed.ncbi.nlm.nih.gov/pmc/articles/\"\n",
    "r = requests.get(url + \"PMC8863067\" + \"/\")"
   ]
  },
  {
   "cell_type": "code",
   "execution_count": 41,
   "metadata": {},
   "outputs": [],
   "source": [
    "url = \"https://pubmed.ncbi.nlm.nih.gov/pmc/articles/\"\n",
    "for x in PMCID:\n",
    "    r = requests.get(url + x + \"/\")\n",
    "    soup = BeautifulSoup(r.text, 'html.parser')\n",
    "    links = soup.find_all('a')\n",
    "    i = 0\n",
    "    for link in links:\n",
    "        if ('.pdf' in link.get('href', [])):\n",
    "            i += 1\n",
    "            print(\"Downloading file: \", i)\n",
    "  \n",
    "            # Get response object for link\n",
    "            response = requests.get(link.get('href'))\n",
    "  \n",
    "            # Write content in pdf file\n",
    "            pdf = open(\"pdf\"+str(i)+\".pdf\", 'wb')\n",
    "            pdf.write(response.content)\n",
    "            pdf.close()\n",
    "            print(\"File \", i, \" downloaded\")"
   ]
  },
  {
   "attachments": {},
   "cell_type": "markdown",
   "metadata": {},
   "source": [
    "# cAMP"
   ]
  },
  {
   "cell_type": "code",
   "execution_count": 46,
   "metadata": {},
   "outputs": [
    {
     "name": "stdout",
     "output_type": "stream",
     "text": [
      "['34986332', '34764459', '32089240', '30580553', '22001403', '30275531', '34875679', '31176020', '17368848', '35813615']\n"
     ]
    }
   ],
   "source": [
    "handle = Entrez.esearch(db = \"pubmed\", term = cAMP, retmax = 10, sort = \"relevance\")\n",
    "record = Entrez.read(handle)\n",
    "handle.close()\n",
    "id_list_camp = record['IdList']\n",
    "print(id_list)"
   ]
  },
  {
   "cell_type": "code",
   "execution_count": 48,
   "metadata": {},
   "outputs": [
    {
     "name": "stdout",
     "output_type": "stream",
     "text": [
      "Artigos \n",
      "\n",
      "PubMedID: 34986332\n",
      "Título: FGF1 and insulin control lipolysis by convergent pathways.\n",
      "Autores: ['Sancar G', 'Liu S', 'Gasser E', 'Alvarez JG', 'Moutos C', 'Kim K', 'van Zutphen T', 'Wang Y', 'Huddy TF', 'Ross B', 'Dai Y', 'Zepeda D', 'Collins B', 'Tilley E', 'Kolar MJ', 'Yu RT', 'Atkins AR', 'van Dijk TH', 'Saghatelian A', 'Jonker JW', 'Downes M', 'Evans RM']\n",
      "Source: Cell Metab. 2022 Jan 4;34(1):171-183.e6. doi: 10.1016/j.cmet.2021.12.004. \n",
      "\n",
      "PubMedID: 30580553\n",
      "Título: n-3 Polyunsaturated fatty acids for the management of alcoholic liver disease: A critical review.\n",
      "Autores: ['Wang M', 'Ma LJ', 'Yang Y', 'Xiao Z', 'Wan JB']\n",
      "Source: Crit Rev Food Sci Nutr. 2019;59(sup1):S116-S129. doi: 10.1080/10408398.2018.1544542. Epub 2018 Dec 22. \n",
      "\n",
      "PubMedID: 22001403\n",
      "Título: From PDE3B to the regulation of energy homeostasis.\n",
      "Autores: ['Degerman E', 'Ahmad F', 'Chung YW', 'Guirguis E', 'Omar B', 'Stenson L', 'Manganiello V']\n",
      "Source: Curr Opin Pharmacol. 2011 Dec;11(6):676-82. doi: 10.1016/j.coph.2011.09.015. Epub 2011 Oct 14. \n",
      "\n",
      "PubMedID: 31176020\n",
      "Título: Phosphodiesterase 3B (PDE3B) antagonizes the anti-angiogenic actions of PKA in human and murine endothelial cells.\n",
      "Autores: ['MacKeil JL', 'Brzezinska P', 'Burke-Kleinman J', 'Theilmann AL', 'Nicol CJB', 'Ormiston ML', 'Maurice DH']\n",
      "Source: Cell Signal. 2019 Oct;62:109342. doi: 10.1016/j.cellsig.2019.06.007. Epub 2019 Jun 5. \n",
      "\n",
      "PubMedID: 36613764\n",
      "Título: Salicylate Sodium Suppresses Monocyte Chemoattractant Protein-1 Production by Directly Inhibiting Phosphodiesterase 3B in TNF-alpha-Stimulated Adipocytes.\n",
      "Autores: ['Zhang X', 'Gao Y', 'Liu Z', 'Li W', 'Kang Y', 'Li X', 'Xu Z', 'Peng C', 'Qi Y']\n",
      "Source: Int J Mol Sci. 2022 Dec 24;24(1):320. doi: 10.3390/ijms24010320. \n",
      "\n",
      "PubMedID: 22692928\n",
      "Título: Cyclic nucleotide phosphodiesterase 3 signaling complexes.\n",
      "Autores: ['Ahmad F', 'Degerman E', 'Manganiello VC']\n",
      "Source: Horm Metab Res. 2012 Sep;44(10):776-85. doi: 10.1055/s-0032-1312646. Epub 2012 Jun 12. \n",
      "\n",
      "PubMedID: 17368848\n",
      "Título: Beta-cell PDE3B regulates Ca2+-stimulated exocytosis of insulin.\n",
      "Autores: ['Walz HA', 'Wierup N', 'Vikman J', 'Manganiello VC', 'Degerman E', 'Eliasson L', 'Holst LS']\n",
      "Source: Cell Signal. 2007 Jul;19(7):1505-13. doi: 10.1016/j.cellsig.2007.01.030. Epub 2007 Feb 12. \n",
      "\n",
      "PubMedID: 27108947\n",
      "Título: Novel approaches to targeting PDE3 in cardiovascular disease.\n",
      "Autores: ['Movsesian M']\n",
      "Source: Pharmacol Ther. 2016 Jul;163:74-81. doi: 10.1016/j.pharmthera.2016.03.014. Epub 2016 Apr 22. \n",
      "\n",
      "PubMedID: 20631411\n",
      "Título: Regulation of cAMP by phosphodiesterases in erythrocytes.\n",
      "Autores: ['Adderley SP', 'Sprague RS', 'Stephenson AH', 'Hanson MS']\n",
      "Source: Pharmacol Rep. 2010 May-Jun;62(3):475-82. doi: 10.1016/s1734-1140(10)70303-0. \n",
      "\n",
      "PubMedID: 27975297\n",
      "Título: cUMP hydrolysis by PDE3A.\n",
      "Autores: ['Berrisch S', 'Ostermeyer J', 'Kaever V', 'Kalble S', 'Hilfiker-Kleiner D', 'Seifert R', 'Schneider EH']\n",
      "Source: Naunyn Schmiedebergs Arch Pharmacol. 2017 Mar;390(3):269-280. doi: 10.1007/s00210-016-1328-1. Epub 2016 Dec 14. \n",
      "\n"
     ]
    }
   ],
   "source": [
    "handle = Entrez.efetch(db=\"pubmed\", id=id_list_camp, rettype=\"medline\", retmode=\"text\")\n",
    "records = list(Medline.parse(handle))\n",
    "print(\"Artigos\", \"\\n\")\n",
    "for record in records:\n",
    "    print(\"PubMedID:\", record['PMID'])\n",
    "    print(\"Título:\", record['TI'])\n",
    "    print(\"Autores:\", record['AU'])\n",
    "    print(\"Source:\", record['SO'],'\\n')"
   ]
  },
  {
   "attachments": {},
   "cell_type": "markdown",
   "metadata": {},
   "source": [
    "# Diabetes"
   ]
  },
  {
   "cell_type": "code",
   "execution_count": 50,
   "metadata": {},
   "outputs": [
    {
     "name": "stdout",
     "output_type": "stream",
     "text": [
      "['34986332', '34764459', '32089240', '30275531', '22001403', '34875679', '35773277', '12904862', '33112806', '33237390']\n"
     ]
    }
   ],
   "source": [
    "handle = Entrez.esearch(db = \"pubmed\", term = diabetes, retmax = 10, sort = \"relevance\")\n",
    "record = Entrez.read(handle)\n",
    "handle.close()\n",
    "id_list_diab = record['IdList']\n",
    "print(id_list_diab)"
   ]
  },
  {
   "cell_type": "code",
   "execution_count": 51,
   "metadata": {},
   "outputs": [
    {
     "name": "stdout",
     "output_type": "stream",
     "text": [
      "Artigos \n",
      "\n",
      "PubMedID: 34986332\n",
      "Título: FGF1 and insulin control lipolysis by convergent pathways.\n",
      "Autores: ['Sancar G', 'Liu S', 'Gasser E', 'Alvarez JG', 'Moutos C', 'Kim K', 'van Zutphen T', 'Wang Y', 'Huddy TF', 'Ross B', 'Dai Y', 'Zepeda D', 'Collins B', 'Tilley E', 'Kolar MJ', 'Yu RT', 'Atkins AR', 'van Dijk TH', 'Saghatelian A', 'Jonker JW', 'Downes M', 'Evans RM']\n",
      "Source: Cell Metab. 2022 Jan 4;34(1):171-183.e6. doi: 10.1016/j.cmet.2021.12.004. \n",
      "\n",
      "PubMedID: 34764459\n",
      "Título: Connecting copper and cancer: from transition metal signalling to metalloplasia.\n",
      "Autores: ['Ge EJ', 'Bush AI', 'Casini A', 'Cobine PA', 'Cross JR', 'DeNicola GM', 'Dou QP', 'Franz KJ', 'Gohil VM', 'Gupta S', 'Kaler SG', 'Lutsenko S', 'Mittal V', 'Petris MJ', 'Polishchuk R', 'Ralle M', 'Schilsky ML', 'Tonks NK', 'Vahdat LT', 'Van Aelst L', 'Xi D', 'Yuan P', 'Brady DC', 'Chang CJ']\n",
      "Source: Nat Rev Cancer. 2022 Feb;22(2):102-113. doi: 10.1038/s41568-021-00417-2. Epub 2021 Nov 11. \n",
      "\n",
      "PubMedID: 32089240\n",
      "Título: Astragaloside IV derived from Astragalus membranaceus: A research review on the pharmacological effects.\n",
      "Autores: ['Zhang J', 'Wu C', 'Gao L', 'Du G', 'Qin X']\n",
      "Source: Adv Pharmacol. 2020;87:89-112. doi: 10.1016/bs.apha.2019.08.002. Epub 2019 Dec 18. \n",
      "\n",
      "PubMedID: 30275531\n",
      "Título: Genetics of blood lipids among ~300,000 multi-ethnic participants of the Million Veteran Program.\n",
      "Autores: ['Klarin D', 'Damrauer SM', 'Cho K', 'Sun YV', 'Teslovich TM', 'Honerlaw J', 'Gagnon DR', 'DuVall SL', 'Li J', 'Peloso GM', 'Chaffin M', 'Small AM', 'Huang J', 'Tang H', 'Lynch JA', 'Ho YL', 'Liu DJ', 'Emdin CA', 'Li AH', 'Huffman JE', 'Lee JS', 'Natarajan P', 'Chowdhury R', 'Saleheen D', 'Vujkovic M', 'Baras A', 'Pyarajan S', 'Di Angelantonio E', 'Neale BM', 'Naheed A', 'Khera AV', 'Danesh J', 'Chang KM', 'Abecasis G', 'Willer C', 'Dewey FE', 'Carey DJ', 'Concato J', 'Gaziano JM', \"O'Donnell CJ\", 'Tsao PS', 'Kathiresan S', 'Rader DJ', 'Wilson PWF', 'Assimes TL']\n",
      "Source: Nat Genet. 2018 Nov;50(11):1514-1523. doi: 10.1038/s41588-018-0222-9. Epub 2018 Oct 1. \n",
      "\n",
      "PubMedID: 22001403\n",
      "Título: From PDE3B to the regulation of energy homeostasis.\n",
      "Autores: ['Degerman E', 'Ahmad F', 'Chung YW', 'Guirguis E', 'Omar B', 'Stenson L', 'Manganiello V']\n",
      "Source: Curr Opin Pharmacol. 2011 Dec;11(6):676-82. doi: 10.1016/j.coph.2011.09.015. Epub 2011 Oct 14. \n",
      "\n",
      "PubMedID: 34875679\n",
      "Título: Identification of Rare Loss-of-Function Genetic Variation Regulating Body Fat Distribution.\n",
      "Autores: ['Koprulu M', 'Zhao Y', 'Wheeler E', 'Dong L', 'Rocha N', 'Li C', 'Griffin JD', 'Patel S', 'Van de Streek M', 'Glastonbury CA', 'Stewart ID', 'Day FR', 'Luan J', 'Bowker N', 'Wittemans LBL', 'Kerrison ND', 'Cai L', 'Lucarelli DME', 'Barroso I', 'McCarthy MI', 'Scott RA', 'Saudek V', 'Small KS', 'Wareham NJ', 'Semple RK', 'Perry JRB', \"O'Rahilly S\", 'Lotta LA', 'Langenberg C', 'Savage DB']\n",
      "Source: J Clin Endocrinol Metab. 2022 Mar 24;107(4):1065-1077. doi: 10.1210/clinem/dgab877. \n",
      "\n",
      "PubMedID: 35773277\n",
      "Título: Inherited basis of visceral, abdominal subcutaneous and gluteofemoral fat depots.\n",
      "Autores: ['Agrawal S', 'Wang M', 'Klarqvist MDR', 'Smith K', 'Shin J', 'Dashti H', 'Diamant N', 'Choi SH', 'Jurgens SJ', 'Ellinor PT', 'Philippakis A', 'Claussnitzer M', 'Ng K', 'Udler MS', 'Batra P', 'Khera AV']\n",
      "Source: Nat Commun. 2022 Jun 30;13(1):3771. doi: 10.1038/s41467-022-30931-2. \n",
      "\n",
      "PubMedID: 12904862\n",
      "Título: Cyclic nucleotide phosphodiesterases in pancreatic islets.\n",
      "Autores: ['Pyne NJ', 'Furman BL']\n",
      "Source: Diabetologia. 2003 Sep;46(9):1179-89. doi: 10.1007/s00125-003-1176-7. Epub 2003 Aug 7. \n",
      "\n",
      "PubMedID: 33112806\n",
      "Título: Phosphodiesterase 2A and 3B variants are associated with primary aldosteronism.\n",
      "Autores: ['Rassi-Cruz M', 'Maria AG', 'Faucz FR', 'London E', 'Vilela LAP', 'Santana LS', 'Benedetti AFF', 'Goldbaum TS', 'Tanno FY', 'Srougi V', 'Chambo JL', 'Pereira MAA', 'Cavalcante ACBS', 'Carnevale FC', 'Pilan B', 'Bortolotto LA', 'Drager LF', 'Lerario AM', 'Latronico AC', 'Fragoso MCBV', 'Mendonca BB', 'Zerbini MCN', 'Stratakis CA', 'Almeida MQ']\n",
      "Source: Endocr Relat Cancer. 2021 Jan;28(1):1-13. doi: 10.1530/ERC-20-0384. \n",
      "\n",
      "PubMedID: 33237390\n",
      "Título: Diosgenin Inhibits Excessive Proliferation and Inflammatory Response of Synovial Fibroblasts in Rheumatoid Arthritis by Targeting PDE3B.\n",
      "Autores: ['Wang R', 'Sun Y', 'Jin X', 'Wen W', 'Cao Y']\n",
      "Source: Inflammation. 2021 Jun;44(3):946-955. doi: 10.1007/s10753-020-01389-5. Epub 2020 Nov 25. \n",
      "\n"
     ]
    }
   ],
   "source": [
    "handle = Entrez.efetch(db=\"pubmed\", id=id_list_diab, rettype=\"medline\", retmode=\"text\")\n",
    "records = list(Medline.parse(handle))\n",
    "print(\"Artigos\", \"\\n\")\n",
    "for record in records:\n",
    "    print(\"PubMedID:\", record['PMID'])\n",
    "    print(\"Título:\", record['TI'])\n",
    "    print(\"Autores:\", record['AU'])\n",
    "    print(\"Source:\", record['SO'],'\\n')"
   ]
  },
  {
   "attachments": {},
   "cell_type": "markdown",
   "metadata": {},
   "source": [
    "# Cancro"
   ]
  },
  {
   "cell_type": "code",
   "execution_count": 53,
   "metadata": {},
   "outputs": [
    {
     "name": "stdout",
     "output_type": "stream",
     "text": [
      "['34764459', '35813615', '30530703', '24133626', '10721768', '30218018', '28275299', '24282571', '22904677', '21152070']\n"
     ]
    }
   ],
   "source": [
    "handle = Entrez.esearch(db = \"pubmed\", term = cancro, retmax = 10, sort = \"relevance\")\n",
    "record = Entrez.read(handle)\n",
    "handle.close()\n",
    "id_list_cancro = record['IdList']\n",
    "print(id_list_cancro)"
   ]
  },
  {
   "cell_type": "code",
   "execution_count": 54,
   "metadata": {},
   "outputs": [
    {
     "name": "stdout",
     "output_type": "stream",
     "text": [
      "Artigos \n",
      "\n",
      "PubMedID: 34764459\n",
      "Título: Connecting copper and cancer: from transition metal signalling to metalloplasia.\n",
      "Autores: ['Ge EJ', 'Bush AI', 'Casini A', 'Cobine PA', 'Cross JR', 'DeNicola GM', 'Dou QP', 'Franz KJ', 'Gohil VM', 'Gupta S', 'Kaler SG', 'Lutsenko S', 'Mittal V', 'Petris MJ', 'Polishchuk R', 'Ralle M', 'Schilsky ML', 'Tonks NK', 'Vahdat LT', 'Van Aelst L', 'Xi D', 'Yuan P', 'Brady DC', 'Chang CJ']\n",
      "Source: Nat Rev Cancer. 2022 Feb;22(2):102-113. doi: 10.1038/s41568-021-00417-2. Epub 2021 Nov 11. \n",
      "\n",
      "PubMedID: 35813615\n",
      "Título: Pathogenesis of Primary Aldosteronism: Impact on Clinical Outcome.\n",
      "Autores: ['Santana LS', 'Guimaraes AG', 'Almeida MQ']\n",
      "Source: Front Endocrinol (Lausanne). 2022 Jun 23;13:927669. doi: 10.3389/fendo.2022.927669. eCollection 2022. \n",
      "\n",
      "PubMedID: 30530703\n",
      "Título: Anagrelide for Gastrointestinal Stromal Tumor.\n",
      "Autores: ['Pulkka OP', 'Gebreyohannes YK', 'Wozniak A', 'Mpindi JP', 'Tynninen O', 'Icay K', 'Cervera A', 'Keskitalo S', 'Murumagi A', 'Kulesskiy E', 'Laaksonen M', 'Wennerberg K', 'Varjosalo M', 'Laakkonen P', 'Lehtonen R', 'Hautaniemi S', 'Kallioniemi O', 'Schoffski P', 'Sihto H', 'Joensuu H']\n",
      "Source: Clin Cancer Res. 2019 Mar 1;25(5):1676-1687. doi: 10.1158/1078-0432.CCR-18-0815. Epub 2018 Dec 7. \n",
      "\n",
      "PubMedID: 24133626\n",
      "Título: Targeting phosphodiesterase 3B enhances cisplatin sensitivity in human cancer cells.\n",
      "Autores: ['Uzawa K', 'Kasamatsu A', 'Baba T', 'Usukura K', 'Saito Y', 'Sakuma K', 'Iyoda M', 'Sakamoto Y', 'Ogawara K', 'Shiiba M', 'Tanzawa H']\n",
      "Source: Cancer Med. 2013 Feb;2(1):40-9. doi: 10.1002/cam4.56. Epub 2013 Feb 3. \n",
      "\n",
      "PubMedID: 10721768\n",
      "Título: The cAMP signaling pathway as a therapeutic target in lymphoid malignancies.\n",
      "Autores: ['Lerner A', 'Kim DH', 'Lee R']\n",
      "Source: Leuk Lymphoma. 2000 Mar;37(1-2):39-51. doi: 10.3109/10428190009057627. \n",
      "\n",
      "PubMedID: 30218018\n",
      "Título: A combination of curcumin and oligomeric proanthocyanidins offer superior anti-tumorigenic properties in colorectal cancer.\n",
      "Autores: ['Ravindranathan P', 'Pasham D', 'Balaji U', 'Cardenas J', 'Gu J', 'Toden S', 'Goel A']\n",
      "Source: Sci Rep. 2018 Sep 14;8(1):13869. doi: 10.1038/s41598-018-32267-8. \n",
      "\n",
      "PubMedID: 28275299\n",
      "Título: Dysregulation of mRNA profile in cisplatin-resistant gastric cancer cell line SGC7901.\n",
      "Autores: ['Xie XQ', 'Zhao QH', 'Wang H', 'Gu KS']\n",
      "Source: World J Gastroenterol. 2017 Feb 21;23(7):1189-1202. doi: 10.3748/wjg.v23.i7.1189. \n",
      "\n",
      "PubMedID: 24282571\n",
      "Título: Cyclic phosphatidic acid stimulates cAMP production and inhibits growth in human colon cancer cells.\n",
      "Autores: ['Tsukahara T', 'Matsuda Y', 'Haniu H']\n",
      "Source: PLoS One. 2013 Nov 25;8(11):e81139. doi: 10.1371/journal.pone.0081139. eCollection 2013. \n",
      "\n",
      "PubMedID: 22904677\n",
      "Título: Molecular subtyping of primary prostate cancer reveals specific and shared target genes of different ETS rearrangements.\n",
      "Autores: ['Paulo P', 'Ribeiro FR', 'Santos J', 'Mesquita D', 'Almeida M', 'Barros-Silva JD', 'Itkonen H', 'Henrique R', 'Jeronimo C', 'Sveen A', 'Mills IG', 'Skotheim RI', 'Lothe RA', 'Teixeira MR']\n",
      "Source: Neoplasia. 2012 Jul;14(7):600-11. doi: 10.1593/neo.12600. \n",
      "\n",
      "PubMedID: 21152070\n",
      "Título: Expression and regulation of cyclic nucleotide phosphodiesterases in human and rat pancreatic islets.\n",
      "Autores: ['Heimann E', 'Jones HA', 'Resjo S', 'Manganiello VC', 'Stenson L', 'Degerman E']\n",
      "Source: PLoS One. 2010 Dec 1;5(12):e14191. doi: 10.1371/journal.pone.0014191. \n",
      "\n"
     ]
    }
   ],
   "source": [
    "handle = Entrez.efetch(db=\"pubmed\", id=id_list_cancro, rettype=\"medline\", retmode=\"text\")\n",
    "records = list(Medline.parse(handle))\n",
    "print(\"Artigos\", \"\\n\")\n",
    "for record in records:\n",
    "    print(\"PubMedID:\", record['PMID'])\n",
    "    print(\"Título:\", record['TI'])\n",
    "    print(\"Autores:\", record['AU'])\n",
    "    print(\"Source:\", record['SO'],'\\n')"
   ]
  },
  {
   "attachments": {},
   "cell_type": "markdown",
   "metadata": {},
   "source": [
    "# Proteína (isoforma 2)"
   ]
  },
  {
   "attachments": {},
   "cell_type": "markdown",
   "metadata": {},
   "source": [
    "Usar referências da entrada no genebank da isoforma de interesse para obter mais artigos relevantes"
   ]
  },
  {
   "cell_type": "code",
   "execution_count": 55,
   "metadata": {},
   "outputs": [],
   "source": [
    "handle = Entrez.efetch(db=\"protein\", rettype=\"gb\", retmode=\"text\", id=\"NP_000913.2\")\n",
    "seq_record_pro = SeqIO.read(handle, \"gb\")"
   ]
  },
  {
   "cell_type": "code",
   "execution_count": 61,
   "metadata": {},
   "outputs": [
    {
     "name": "stdout",
     "output_type": "stream",
     "text": [
      "['32949251', '33112806', '32967310', '32296183', '31176020', '8706823', '8626720', '8557689', '8562305', '8163498']\n"
     ]
    }
   ],
   "source": [
    "ids_isoforma = []\n",
    "for x in range(len(seq_record_pro.annotations[\"references\"])):\n",
    "    ids_isoforma.append(seq_record_pro.annotations[\"references\"][x].pubmed_id)\n",
    "print(ids_isoforma)"
   ]
  },
  {
   "cell_type": "code",
   "execution_count": 62,
   "metadata": {},
   "outputs": [
    {
     "name": "stdout",
     "output_type": "stream",
     "text": [
      "Artigos \n",
      "\n",
      "PubMedID: 32949251\n",
      "Título: Impact of phosphodiesterases PDE3 and PDE4 on 5-hydroxytryptamine receptor4-mediated increase of cAMP in human atrial fibrillation.\n",
      "Autores: ['Dolce B', 'Christ T', 'Grammatika Pavlidou N', 'Yildirim Y', 'Reichenspurner H', 'Eschenhagen T', 'Nikolaev VO', 'Kaumann AJ', 'Molina CE']\n",
      "Source: Naunyn Schmiedebergs Arch Pharmacol. 2021 Feb;394(2):291-298. doi: 10.1007/s00210-020-01968-1. Epub 2020 Sep 19. \n",
      "\n",
      "PubMedID: 33112806\n",
      "Título: Phosphodiesterase 2A and 3B variants are associated with primary aldosteronism.\n",
      "Autores: ['Rassi-Cruz M', 'Maria AG', 'Faucz FR', 'London E', 'Vilela LAP', 'Santana LS', 'Benedetti AFF', 'Goldbaum TS', 'Tanno FY', 'Srougi V', 'Chambo JL', 'Pereira MAA', 'Cavalcante ACBS', 'Carnevale FC', 'Pilan B', 'Bortolotto LA', 'Drager LF', 'Lerario AM', 'Latronico AC', 'Fragoso MCBV', 'Mendonca BB', 'Zerbini MCN', 'Stratakis CA', 'Almeida MQ']\n",
      "Source: Endocr Relat Cancer. 2021 Jan;28(1):1-13. doi: 10.1530/ERC-20-0384. \n",
      "\n",
      "PubMedID: 32967310\n",
      "Título: In Vitro Inhibition of Phosphodiesterase 3B (PDE 3B) by Anthocyanin-Rich Fruit Juice Extracts and Selected Anthocyanins.\n",
      "Autores: ['Gottel C', 'Niesen S', 'Daub V', 'Werle T', 'Bakuradze T', 'Winterhalter P', 'Richling E']\n",
      "Source: Int J Mol Sci. 2020 Sep 21;21(18):6934. doi: 10.3390/ijms21186934. \n",
      "\n",
      "PubMedID: 32296183\n",
      "Título: A reference map of the human binary protein interactome.\n",
      "Autores: ['Luck K', 'Kim DK', 'Lambourne L', 'Spirohn K', 'Begg BE', 'Bian W', 'Brignall R', 'Cafarelli T', 'Campos-Laborie FJ', 'Charloteaux B', 'Choi D', 'Cote AG', 'Daley M', 'Deimling S', 'Desbuleux A', 'Dricot A', 'Gebbia M', 'Hardy MF', 'Kishore N', 'Knapp JJ', 'Kovacs IA', 'Lemmens I', 'Mee MW', 'Mellor JC', 'Pollis C', 'Pons C', 'Richardson AD', 'Schlabach S', 'Teeking B', 'Yadav A', 'Babor M', 'Balcha D', 'Basha O', 'Bowman-Colin C', 'Chin SF', 'Choi SG', 'Colabella C', 'Coppin G', \"D'Amata C\", 'De Ridder D', 'De Rouck S', 'Duran-Frigola M', 'Ennajdaoui H', 'Goebels F', 'Goehring L', 'Gopal A', 'Haddad G', 'Hatchi E', 'Helmy M', 'Jacob Y', 'Kassa Y', 'Landini S', 'Li R', 'van Lieshout N', 'MacWilliams A', 'Markey D', 'Paulson JN', 'Rangarajan S', 'Rasla J', 'Rayhan A', 'Rolland T', 'San-Miguel A', 'Shen Y', 'Sheykhkarimli D', 'Sheynkman GM', 'Simonovsky E', 'Tasan M', 'Tejeda A', 'Tropepe V', 'Twizere JC', 'Wang Y', 'Weatheritt RJ', 'Weile J', 'Xia Y', 'Yang X', 'Yeger-Lotem E', 'Zhong Q', 'Aloy P', 'Bader GD', 'De Las Rivas J', 'Gaudet S', 'Hao T', 'Rak J', 'Tavernier J', 'Hill DE', 'Vidal M', 'Roth FP', 'Calderwood MA']\n",
      "Source: Nature. 2020 Apr;580(7803):402-408. doi: 10.1038/s41586-020-2188-x. Epub 2020 Apr 8. \n",
      "\n",
      "PubMedID: 31176020\n",
      "Título: Phosphodiesterase 3B (PDE3B) antagonizes the anti-angiogenic actions of PKA in human and murine endothelial cells.\n",
      "Autores: ['MacKeil JL', 'Brzezinska P', 'Burke-Kleinman J', 'Theilmann AL', 'Nicol CJB', 'Ormiston ML', 'Maurice DH']\n",
      "Source: Cell Signal. 2019 Oct;62:109342. doi: 10.1016/j.cellsig.2019.06.007. Epub 2019 Jun 5. \n",
      "\n",
      "PubMedID: 8706823\n",
      "Título: Differential expression of cGMP-inhibited cyclic nucleotide phosphodiesterases in human hepatoma cell lines.\n",
      "Autores: ['Murata T', 'Taira M', 'Manganiello VC']\n",
      "Source: FEBS Lett. 1996 Jul 15;390(1):29-33. doi: 10.1016/0014-5793(96)00410-3. \n",
      "\n",
      "PubMedID: 8626720\n",
      "Título: Identification of the site in the cGMP-inhibited phosphodiesterase phosphorylated in adipocytes in response to insulin and isoproterenol.\n",
      "Autores: ['Rahn T', 'Ronnstrand L', 'Leroy MJ', 'Wernstedt C', 'Tornqvist H', 'Manganiello VC', 'Belfrage P', 'Degerman E']\n",
      "Source: J Biol Chem. 1996 May 10;271(19):11575-80. doi: 10.1074/jbc.271.19.11575. \n",
      "\n",
      "PubMedID: 8557689\n",
      "Título: Isolation and characterization of cDNAs corresponding to two human calcium, calmodulin-regulated, 3',5'-cyclic nucleotide phosphodiesterases.\n",
      "Autores: ['Loughney K', 'Martins TJ', 'Harris EA', 'Sadhu K', 'Hicks JB', 'Sonnenburg WK', 'Beavo JA', 'Ferguson K']\n",
      "Source: J Biol Chem. 1996 Jan 12;271(2):796-806. doi: 10.1074/jbc.271.2.796. \n",
      "\n",
      "PubMedID: 8562305\n",
      "Título: Type III cGMP-inhibited cyclic nucleotide phosphodiesterases (PDE3 gene family).\n",
      "Autores: ['Manganiello VC', 'Taira M', 'Degerman E', 'Belfrage P']\n",
      "Source: Cell Signal. 1995 Jul;7(5):445-55. doi: 10.1016/0898-6568(95)00017-j. \n",
      "\n",
      "PubMedID: 8163498\n",
      "Título: Identification of the phosphorylation site in vitro for cAMP-dependent protein kinase on the rat adipocyte cGMP-inhibited cAMP phosphodiesterase.\n",
      "Autores: ['Rascon A', 'Degerman E', 'Taira M', 'Meacci E', 'Smith CJ', 'Manganiello V', 'Belfrage P', 'Tornqvist H']\n",
      "Source: J Biol Chem. 1994 Apr 22;269(16):11962-6. \n",
      "\n"
     ]
    }
   ],
   "source": [
    "handle = Entrez.efetch(db=\"pubmed\", id=ids_isoforma, rettype=\"medline\", retmode=\"text\")\n",
    "records = list(Medline.parse(handle))\n",
    "print(\"Artigos\", \"\\n\")\n",
    "for record in records:\n",
    "    print(\"PubMedID:\", record['PMID'])\n",
    "    print(\"Título:\", record['TI'])\n",
    "    print(\"Autores:\", record['AU'])\n",
    "    print(\"Source:\", record['SO'],'\\n')\n",
    "    \n",
    "    "
   ]
  }
 ],
 "metadata": {
  "kernelspec": {
   "display_name": "Python 3",
   "language": "python",
   "name": "python3"
  },
  "language_info": {
   "codemirror_mode": {
    "name": "ipython",
    "version": 3
   },
   "file_extension": ".py",
   "mimetype": "text/x-python",
   "name": "python",
   "nbconvert_exporter": "python",
   "pygments_lexer": "ipython3",
   "version": "3.10.7"
  },
  "orig_nbformat": 4,
  "vscode": {
   "interpreter": {
    "hash": "4e1fc3fa23fb62f3f701e1450a48be1e01c4f473533356521fe76f63c343b8fd"
   }
  }
 },
 "nbformat": 4,
 "nbformat_minor": 2
}
