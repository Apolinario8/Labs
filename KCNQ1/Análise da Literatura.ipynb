{
 "cells": [
  {
   "cell_type": "code",
   "execution_count": 3,
   "metadata": {},
   "outputs": [],
   "source": [
    "from Bio import Entrez\n",
    "from Bio import SeqIO\n",
    "from Bio import Seq\n",
    "from Bio import Medline\n",
    "import re\n",
    "Entrez.email = \"joanaoliveira1000@gmail.com\" "
   ]
  },
  {
   "attachments": {},
   "cell_type": "markdown",
   "metadata": {},
   "source": [
    "# Pesquisa genérica "
   ]
  },
  {
   "cell_type": "code",
   "execution_count": 1,
   "metadata": {},
   "outputs": [],
   "source": [
    "gene = \"KCNQ1 Homo sapiens\"\n",
    "diabetes = \"KCNQ1 diabetes Homo sapiens\"\n",
    "cancro = \"KCNQ1 and malignant tumor Homo sapiens\""
   ]
  },
  {
   "cell_type": "code",
   "execution_count": 4,
   "metadata": {},
   "outputs": [
    {
     "name": "stdout",
     "output_type": "stream",
     "text": [
      "['31883792', '33322401', '33504163', '26762596', '35765105', '31593778', '25653179', '28373572', '32667860', '35893051']\n"
     ]
    }
   ],
   "source": [
    "handle = Entrez.esearch(db = \"pubmed\", term = gene, retmax = 10, sort = \"relevance\")\n",
    "record = Entrez.read(handle)\n",
    "handle.close()\n",
    "id_list = record['IdList']\n",
    "print(id_list)"
   ]
  },
  {
   "cell_type": "code",
   "execution_count": 5,
   "metadata": {},
   "outputs": [
    {
     "name": "stdout",
     "output_type": "stream",
     "text": [
      "Artigos \n",
      "\n",
      "PubMedID: 31883792\n",
      "Título: Structural Basis of Human KCNQ1 Modulation and Gating.\n",
      "Autores: ['Sun J', 'MacKinnon R']\n",
      "Source: Cell. 2020 Jan 23;180(2):340-347.e9. doi: 10.1016/j.cell.2019.12.003. Epub 2019 Dec 26. \n",
      "\n",
      "PubMedID: 33322401\n",
      "Título: Insights into Cardiac IKs (KCNQ1/KCNE1) Channels Regulation.\n",
      "Autores: ['Wu X', 'Larsson HP']\n",
      "Source: Int J Mol Sci. 2020 Dec 11;21(24):9440. doi: 10.3390/ijms21249440. \n",
      "\n",
      "PubMedID: 33504163\n",
      "Título: Suppression-Replacement KCNQ1 Gene Therapy for Type 1 Long QT Syndrome.\n",
      "Autores: ['Dotzler SM', 'Kim CSJ', 'Gendron WAC', 'Zhou W', 'Ye D', 'Bos JM', 'Tester DJ', 'Barry MA', 'Ackerman MJ']\n",
      "Source: Circulation. 2021 Apr 6;143(14):1411-1425. doi: 10.1161/CIRCULATIONAHA.120.051836. Epub 2021 Jan 28. \n",
      "\n",
      "PubMedID: 26762596\n",
      "Título: Genetic model.\n",
      "Autores: ['Zhao F', 'Song M', 'Wang Y', 'Wang W']\n",
      "Source: J Cell Mol Med. 2016 Apr;20(4):765. doi: 10.1111/jcmm.12751. Epub 2016 Jan 14. \n",
      "\n",
      "PubMedID: 35765105\n",
      "Título: KCNQ1-deficient and KCNQ1-mutant human embryonic stem cell-derived cardiomyocytes for modeling QT prolongation.\n",
      "Autores: ['Song Y', 'Guo T', 'Jiang Y', 'Zhu M', 'Wang H', 'Lu W', 'Jiang M', 'Qi M', 'Lan F', 'Cui M']\n",
      "Source: Stem Cell Res Ther. 2022 Jun 28;13(1):287. doi: 10.1186/s13287-022-02964-3. \n",
      "\n",
      "PubMedID: 31593778\n",
      "Título: Decoding KCNH2 variants of unknown significance.\n",
      "Autores: ['Vanoye CG', 'George AL Jr']\n",
      "Source: Heart Rhythm. 2020 Mar;17(3):501-502. doi: 10.1016/j.hrthm.2019.10.009. Epub 2019 Oct 5. \n",
      "\n",
      "PubMedID: 25653179\n",
      "Título: The KCNQ1 channel - remarkable flexibility in gating allows for functional versatility.\n",
      "Autores: ['Liin SI', 'Barro-Soria R', 'Larsson HP']\n",
      "Source: J Physiol. 2015 Jun 15;593(12):2605-15. doi: 10.1113/jphysiol.2014.287607. Epub 2015 Mar 18. \n",
      "\n",
      "PubMedID: 28373572\n",
      "Título: Bidirectional KCNQ1:beta-catenin interaction drives colorectal cancer cell differentiation.\n",
      "Autores: ['Rapetti-Mauss R', 'Bustos V', 'Thomas W', 'McBryan J', 'Harvey H', 'Lajczak N', 'Madden SF', 'Pellissier B', 'Borgese F', 'Soriani O', 'Harvey BJ']\n",
      "Source: Proc Natl Acad Sci U S A. 2017 Apr 18;114(16):4159-4164. doi: 10.1073/pnas.1702913114. Epub 2017 Apr 3. \n",
      "\n",
      "PubMedID: 32667860\n",
      "Título: Hormonal Signaling Actions on Kv7.1 (KCNQ1) Channels.\n",
      "Autores: ['Thompson E', 'Eldstrom J', 'Fedida D']\n",
      "Source: Annu Rev Pharmacol Toxicol. 2021 Jan 6;61:381-400. doi: 10.1146/annurev-pharmtox-010919-023645. Epub 2020 Jul 15. \n",
      "\n",
      "PubMedID: 35893051\n",
      "Título: KCNJ11 and KCNQ1 Gene Polymorphisms and Placental Expression in Women with Gestational Diabetes Mellitus.\n",
      "Autores: ['Majcher S', 'Ustianowski P', 'Malinowski D', 'Czerewaty M', 'Tarnowski M', 'Safranow K', 'Dziedziejko V', 'Pawlik A']\n",
      "Source: Genes (Basel). 2022 Jul 23;13(8):1315. doi: 10.3390/genes13081315. \n",
      "\n"
     ]
    }
   ],
   "source": [
    "handle = Entrez.efetch(db=\"pubmed\", id=id_list, rettype=\"medline\", retmode=\"text\")\n",
    "records = list(Medline.parse(handle))\n",
    "print(\"Artigos\", \"\\n\")\n",
    "for record in records:\n",
    "    print(\"PubMedID:\", record['PMID'])\n",
    "    print(\"Título:\", record['TI'])\n",
    "    print(\"Autores:\", record['AU'])\n",
    "    print(\"Source:\", record['SO'],'\\n')"
   ]
  },
  {
   "attachments": {},
   "cell_type": "markdown",
   "metadata": {},
   "source": [
    "Extração dos ids referentes ao PMC (se possível)"
   ]
  },
  {
   "cell_type": "code",
   "execution_count": 6,
   "metadata": {},
   "outputs": [],
   "source": [
    "PMCID = []\n",
    "for id in id_list:\n",
    "    try:\n",
    "        handle = Entrez.efetch(db=\"pubmed\", id=id, retmode=\"xml\") \n",
    "        record = Entrez.read(handle)\n",
    "        record = str(record)\n",
    "        result = re.findall(r\"StringElement\\('(PMC[\\d]+)',\\sattributes={'IdType':\\s'pmc'}\\)\", record)\n",
    "        PMCID.append(result[-1])\n",
    "    except: pass"
   ]
  },
  {
   "attachments": {},
   "cell_type": "markdown",
   "metadata": {},
   "source": [
    "Download dos artigos PMC em formato PDF "
   ]
  },
  {
   "cell_type": "code",
   "execution_count": 7,
   "metadata": {},
   "outputs": [],
   "source": [
    "import requests\n",
    "from bs4 import BeautifulSoup\n",
    "from requests_html import HTMLSession\n",
    "from requests.exceptions import ConnectionError\n"
   ]
  },
  {
   "cell_type": "code",
   "execution_count": 8,
   "metadata": {},
   "outputs": [],
   "source": [
    "s = HTMLSession()\n",
    "headers = {'user-agent': 'Mozilla/5.0 (Windows NT 10.0; Win64; x64) AppleWebKit/537.36 (KHTML, like Gecko) Chrome/109.0.0.0 Safari/537.36'}\n",
    "for pmc in PMCID:\n",
    "    try:\n",
    "        url = \"https://pubmed.ncbi.nlm.nih.gov/pmc/articles/\"\n",
    "        r = s.get(url + pmc + \"/\", headers=headers, timeout=5)\n",
    "        pdf_url = 'https://www.ncbi.nlm.nih.gov' + r.html.find('a', first=True).attrs['href']\n",
    "        r = s.get(pdf_url, stream=True)\n",
    "        with open(id + '.pdf', 'wb') as f:\n",
    "            for chunk in r.iter_content(chunk_size=1024):\n",
    "                if chunk:\n",
    "                    f.write(chunk)\n",
    "\n",
    "    except ConnectionError as e:\n",
    "        continue\n"
   ]
  },
  {
   "cell_type": "code",
   "execution_count": 9,
   "metadata": {},
   "outputs": [],
   "source": [
    "url = \"https://pubmed.ncbi.nlm.nih.gov/pmc/articles/\"\n",
    "r = requests.get(url + \"PMC8863067\" + \"/\")"
   ]
  },
  {
   "cell_type": "code",
   "execution_count": 10,
   "metadata": {},
   "outputs": [],
   "source": [
    "url = \"https://pubmed.ncbi.nlm.nih.gov/pmc/articles/\"\n",
    "for x in PMCID:\n",
    "    r = requests.get(url + x + \"/\")\n",
    "    soup = BeautifulSoup(r.text, 'html.parser')\n",
    "    links = soup.find_all('a')\n",
    "    i = 0\n",
    "    for link in links:\n",
    "        if ('.pdf' in link.get('href', [])):\n",
    "            i += 1\n",
    "            print(\"Downloading file: \", i)\n",
    "  \n",
    "            # Get response object for link\n",
    "            response = requests.get(link.get('href'))\n",
    "  \n",
    "            # Write content in pdf file\n",
    "            pdf = open(\"pdf\"+str(i)+\".pdf\", 'wb')\n",
    "            pdf.write(response.content)\n",
    "            pdf.close()\n",
    "            print(\"File \", i, \" downloaded\")"
   ]
  },
  {
   "attachments": {},
   "cell_type": "markdown",
   "metadata": {},
   "source": [
    "# Diabetes"
   ]
  },
  {
   "cell_type": "code",
   "execution_count": 11,
   "metadata": {},
   "outputs": [
    {
     "name": "stdout",
     "output_type": "stream",
     "text": [
      "['28607931', '24558078', '34547194', '32363639', '33795864', '35893051', '25560470', '32695830', '26762596', '20606385']\n"
     ]
    }
   ],
   "source": [
    "handle = Entrez.esearch(db = \"pubmed\", term = diabetes, retmax = 10, sort = \"relevance\")\n",
    "record = Entrez.read(handle)\n",
    "handle.close()\n",
    "id_list_diab = record['IdList']\n",
    "print(id_list_diab)"
   ]
  },
  {
   "cell_type": "code",
   "execution_count": 12,
   "metadata": {},
   "outputs": [
    {
     "name": "stdout",
     "output_type": "stream",
     "text": [
      "Artigos \n",
      "\n",
      "PubMedID: 28607931\n",
      "Título: Genetic Epidemiology of Type 2 Diabetes in Mexican Mestizos.\n",
      "Autores: ['Garcia-Chapa EG', 'Leal-Ugarte E', 'Peralta-Leal V', 'Duran-Gonzalez J', 'Meza-Espinoza JP']\n",
      "Source: Biomed Res Int. 2017;2017:3937893. doi: 10.1155/2017/3937893. Epub 2017 May 18. \n",
      "\n",
      "PubMedID: 24558078\n",
      "Título: The pharmacogenetics of type 2 diabetes: a systematic review.\n",
      "Autores: ['Maruthur NM', 'Gribble MO', 'Bennett WL', 'Bolen S', 'Wilson LM', 'Balakrishnan P', 'Sahu A', 'Bass E', 'Kao WH', 'Clark JM']\n",
      "Source: Diabetes Care. 2014;37(3):876-86. doi: 10.2337/dc13-1276. \n",
      "\n",
      "PubMedID: 34547194\n",
      "Título: Congenital hyperinsulinism: recent updates on molecular mechanisms, diagnosis and management.\n",
      "Autores: ['Giri D', 'Hawton K', 'Senniappan S']\n",
      "Source: J Pediatr Endocrinol Metab. 2021 Sep 21;35(3):279-296. doi: 10.1515/jpem-2021-0369. Print 2022 Mar 28. \n",
      "\n",
      "PubMedID: 32363639\n",
      "Título: Epigenetic regulation of insulin action and secretion - role in the pathogenesis of type 2 diabetes.\n",
      "Autores: ['Ling C']\n",
      "Source: J Intern Med. 2020 Aug;288(2):158-167. doi: 10.1111/joim.13049. Epub 2020 May 3. \n",
      "\n",
      "PubMedID: 33795864\n",
      "Título: Single-cell chromatin accessibility identifies pancreatic islet cell type- and state-specific regulatory programs of diabetes risk.\n",
      "Autores: ['Chiou J', 'Zeng C', 'Cheng Z', 'Han JY', 'Schlichting M', 'Miller M', 'Mendez R', 'Huang S', 'Wang J', 'Sui Y', 'Deogaygay A', 'Okino ML', 'Qiu Y', 'Sun Y', 'Kudtarkar P', 'Fang R', 'Preissl S', 'Sander M', 'Gorkin DU', 'Gaulton KJ']\n",
      "Source: Nat Genet. 2021 Apr;53(4):455-466. doi: 10.1038/s41588-021-00823-0. Epub 2021 Apr 1. \n",
      "\n",
      "PubMedID: 35893051\n",
      "Título: KCNJ11 and KCNQ1 Gene Polymorphisms and Placental Expression in Women with Gestational Diabetes Mellitus.\n",
      "Autores: ['Majcher S', 'Ustianowski P', 'Malinowski D', 'Czerewaty M', 'Tarnowski M', 'Safranow K', 'Dziedziejko V', 'Pawlik A']\n",
      "Source: Genes (Basel). 2022 Jul 23;13(8):1315. doi: 10.3390/genes13081315. \n",
      "\n",
      "PubMedID: 25560470\n",
      "Título: Pharmacogenomics of glinides.\n",
      "Autores: ['Chen M', 'Hu C', 'Jia W']\n",
      "Source: Pharmacogenomics. 2015 Jan;16(1):45-60. doi: 10.2217/pgs.14.152. \n",
      "\n",
      "PubMedID: 32695830\n",
      "Título: Associations of KCNQ1 Polymorphisms with the Risk of Type 2 Diabetes Mellitus: An Updated Meta-Analysis with Trial Sequential Analysis.\n",
      "Autores: ['Yu XX', 'Liao MQ', 'Zeng YF', 'Gao XP', 'Liu YH', 'Sun W', 'Zhu S', 'Zeng FF', 'Ye YB']\n",
      "Source: J Diabetes Res. 2020 Jul 3;2020:7145139. doi: 10.1155/2020/7145139. eCollection 2020. \n",
      "\n",
      "PubMedID: 26762596\n",
      "Título: Genetic model.\n",
      "Autores: ['Zhao F', 'Song M', 'Wang Y', 'Wang W']\n",
      "Source: J Cell Mol Med. 2016 Apr;20(4):765. doi: 10.1111/jcmm.12751. Epub 2016 Jan 14. \n",
      "\n",
      "PubMedID: 20606385\n",
      "Título: Polymorphisms in KCNQ1 are associated with gestational diabetes in a Korean population.\n",
      "Autores: ['Kwak SH', 'Kim TH', 'Cho YM', 'Choi SH', 'Jang HC', 'Park KS']\n",
      "Source: Horm Res Paediatr. 2010;74(5):333-8. doi: 10.1159/000313918. Epub 2010 Jul 3. \n",
      "\n"
     ]
    }
   ],
   "source": [
    "handle = Entrez.efetch(db=\"pubmed\", id=id_list_diab, rettype=\"medline\", retmode=\"text\")\n",
    "records = list(Medline.parse(handle))\n",
    "print(\"Artigos\", \"\\n\")\n",
    "for record in records:\n",
    "    print(\"PubMedID:\", record['PMID'])\n",
    "    print(\"Título:\", record['TI'])\n",
    "    print(\"Autores:\", record['AU'])\n",
    "    print(\"Source:\", record['SO'],'\\n')"
   ]
  },
  {
   "attachments": {},
   "cell_type": "markdown",
   "metadata": {},
   "source": [
    "# Cancro"
   ]
  },
  {
   "cell_type": "code",
   "execution_count": 13,
   "metadata": {},
   "outputs": [
    {
     "name": "stdout",
     "output_type": "stream",
     "text": [
      "['31636470', '34827600', '34850551', '23933686', '33994860', '35954238', '35395779', '35129069', '30014247', '28373572']\n"
     ]
    }
   ],
   "source": [
    "handle = Entrez.esearch(db = \"pubmed\", term = cancro, retmax = 10, sort = \"relevance\")\n",
    "record = Entrez.read(handle)\n",
    "handle.close()\n",
    "id_list_cancro = record['IdList']\n",
    "print(id_list_cancro)"
   ]
  },
  {
   "cell_type": "code",
   "execution_count": 14,
   "metadata": {},
   "outputs": [
    {
     "name": "stdout",
     "output_type": "stream",
     "text": [
      "Artigos \n",
      "\n",
      "PubMedID: 31636470\n",
      "Título: Role of ion channels in gastrointestinal cancer.\n",
      "Autores: ['Anderson KJ', 'Cormier RT', 'Scott PM']\n",
      "Source: World J Gastroenterol. 2019 Oct 14;25(38):5732-5772. doi: 10.3748/wjg.v25.i38.5732. \n",
      "\n",
      "PubMedID: 34827600\n",
      "Título: KCNQ1OT1: An Oncogenic Long Noncoding RNA.\n",
      "Autores: ['Cagle P', 'Qi Q', 'Niture S', 'Kumar D']\n",
      "Source: Biomolecules. 2021 Oct 29;11(11):1602. doi: 10.3390/biom11111602. \n",
      "\n",
      "PubMedID: 34850551\n",
      "Título: ALKBH5-mediated m6A modification of lncRNA KCNQ1OT1 triggers the development of LSCC via upregulation of HOXA9.\n",
      "Autores: ['Li Y', 'Yan B', 'Wang X', 'Li Q', 'Kan X', 'Wang J', 'Sun Y', 'Wang P', 'Tian L', 'Liu M']\n",
      "Source: J Cell Mol Med. 2022 Jan;26(2):385-398. doi: 10.1111/jcmm.17091. Epub 2021 Dec 1. \n",
      "\n",
      "PubMedID: 23933686\n",
      "Título: Serum and glucocorticoid inducible kinase, metabolic syndrome, inflammation, and tumor growth.\n",
      "Autores: ['Lang F', 'Stournaras C']\n",
      "Source: Hormones (Athens). 2013 Apr-Jun;12(2):160-71. doi: 10.14310/horm.2002.1401. \n",
      "\n",
      "PubMedID: 33994860\n",
      "Título: Long Noncoding RNA KCNQ1OT1 is a Prognostic Biomarker and mediates CD8(+) T cell exhaustion by regulating CD155 Expression in Colorectal Cancer.\n",
      "Autores: ['Lin ZB', 'Long P', 'Zhao Z', 'Zhang YR', 'Chu XD', 'Zhao XX', 'Ding H', 'Huan SW', 'Pan YL', 'Pan JH']\n",
      "Source: Int J Biol Sci. 2021 Apr 22;17(7):1757-1768. doi: 10.7150/ijbs.59001. eCollection 2021. \n",
      "\n",
      "PubMedID: 35954238\n",
      "Título: Golden Syrian Hamster Models for Cancer Research.\n",
      "Autores: ['Wang Z', 'Cormier RT']\n",
      "Source: Cells. 2022 Aug 3;11(15):2395. doi: 10.3390/cells11152395. \n",
      "\n",
      "PubMedID: 35395779\n",
      "Título: KCNQ1 and lymphovascular invasion are key features in a prognostic classifier for stage II and III colon cancer.\n",
      "Autores: ['Uil SH', 'Coupe VMH', 'Bril H', 'Meijer GA', 'Fijneman RJA', 'Stockmann HBAC']\n",
      "Source: BMC Cancer. 2022 Apr 8;22(1):372. doi: 10.1186/s12885-022-09473-9. \n",
      "\n",
      "PubMedID: 35129069\n",
      "Título: Feasibility and safety of targeting mitochondria for cancer therapy - preclinical characterization of gamitrinib, a first-in-class, mitochondriaL-targeted small molecule Hsp90 inhibitor.\n",
      "Autores: ['Hayat U', 'Elliott GT', 'Olszanski AJ', 'Altieri DC']\n",
      "Source: Cancer Biol Ther. 2022 Dec 31;23(1):117-126. doi: 10.1080/15384047.2022.2029132. \n",
      "\n",
      "PubMedID: 30014247\n",
      "Título: A novel role for estrogen-induced signaling in the colorectal cancer gender bias.\n",
      "Autores: ['Haziman AA', 'Ravinderan S', 'Thangavelu T', 'Thomas W']\n",
      "Source: Ir J Med Sci. 2019 May;188(2):389-395. doi: 10.1007/s11845-018-1867-1. Epub 2018 Jul 17. \n",
      "\n",
      "PubMedID: 28373572\n",
      "Título: Bidirectional KCNQ1:beta-catenin interaction drives colorectal cancer cell differentiation.\n",
      "Autores: ['Rapetti-Mauss R', 'Bustos V', 'Thomas W', 'McBryan J', 'Harvey H', 'Lajczak N', 'Madden SF', 'Pellissier B', 'Borgese F', 'Soriani O', 'Harvey BJ']\n",
      "Source: Proc Natl Acad Sci U S A. 2017 Apr 18;114(16):4159-4164. doi: 10.1073/pnas.1702913114. Epub 2017 Apr 3. \n",
      "\n"
     ]
    }
   ],
   "source": [
    "handle = Entrez.efetch(db=\"pubmed\", id=id_list_cancro, rettype=\"medline\", retmode=\"text\")\n",
    "records = list(Medline.parse(handle))\n",
    "print(\"Artigos\", \"\\n\")\n",
    "for record in records:\n",
    "    print(\"PubMedID:\", record['PMID'])\n",
    "    print(\"Título:\", record['TI'])\n",
    "    print(\"Autores:\", record['AU'])\n",
    "    print(\"Source:\", record['SO'],'\\n')"
   ]
  },
  {
   "attachments": {},
   "cell_type": "markdown",
   "metadata": {},
   "source": [
    "# Proteína (isoforma 1)"
   ]
  },
  {
   "attachments": {},
   "cell_type": "markdown",
   "metadata": {},
   "source": [
    "Usar referências da entrada no genebank da isoforma de interesse para obter mais artigos relevantes"
   ]
  },
  {
   "cell_type": "code",
   "execution_count": 16,
   "metadata": {},
   "outputs": [],
   "source": [
    "handle = Entrez.efetch(db=\"protein\", rettype=\"gb\", retmode=\"text\", id=\"NP_000209.2\")\n",
    "seq_record_pro = SeqIO.read(handle, \"gb\")"
   ]
  },
  {
   "cell_type": "code",
   "execution_count": 17,
   "metadata": {},
   "outputs": [
    {
     "name": "stdout",
     "output_type": "stream",
     "text": [
      "['35870481', '36102229', '35893051', '19617707', '9020845', '8818942', '8528244', '20301579', '20301568', '20301308']\n"
     ]
    }
   ],
   "source": [
    "ids_isoforma = []\n",
    "for x in range(len(seq_record_pro.annotations[\"references\"])):\n",
    "    ids_isoforma.append(seq_record_pro.annotations[\"references\"][x].pubmed_id)\n",
    "print(ids_isoforma)"
   ]
  },
  {
   "cell_type": "code",
   "execution_count": 18,
   "metadata": {},
   "outputs": [
    {
     "name": "stdout",
     "output_type": "stream",
     "text": [
      "Artigos \n",
      "\n",
      "PubMedID: 35870481\n",
      "Título: Purification and membrane interactions of human KCNQ1(100-370) potassium ion channel.\n",
      "Autores: ['Dixit G', 'Stowe RB', 'Bates A', 'Jaycox CK', 'Escobar JR', 'Harding BD', 'Drew DL Jr', 'New CP', 'Sahu ID', 'Edelmann RE', 'Dabney-Smith C', 'Sanders CR', 'Lorigan GA']\n",
      "Source: Biochim Biophys Acta Biomembr. 2022 Nov 1;1864(11):184010. doi: 10.1016/j.bbamem.2022.184010. Epub 2022 Jul 21. \n",
      "\n",
      "PubMedID: 36102229\n",
      "Título: To Modify or Not to Modify: Allele-Specific Effects of 3'UTR-KCNQ1 Single Nucleotide Polymorphisms on Clinical Phenotype in a Long QT 1 Founder Population Segregating a Dominant-Negative Mutation.\n",
      "Autores: ['Winbo A', 'Diamant UB', 'Persson J', 'Jensen SM', 'Rydberg A']\n",
      "Source: J Am Heart Assoc. 2022 Sep 20;11(18):e025981. doi: 10.1161/JAHA.122.025981. Epub 2022 Sep 14. \n",
      "\n",
      "PubMedID: 35893051\n",
      "Título: KCNJ11 and KCNQ1 Gene Polymorphisms and Placental Expression in Women with Gestational Diabetes Mellitus.\n",
      "Autores: ['Majcher S', 'Ustianowski P', 'Malinowski D', 'Czerewaty M', 'Tarnowski M', 'Safranow K', 'Dziedziejko V', 'Pawlik A']\n",
      "Source: Genes (Basel). 2022 Jul 23;13(8):1315. doi: 10.3390/genes13081315. \n",
      "\n",
      "PubMedID: 19617707\n",
      "Título: Epigenetics of imprinted long noncoding RNAs.\n",
      "Autores: ['Mohammad F', 'Mondal T', 'Kanduri C']\n",
      "Source: Epigenetics. 2009 Jul 1;4(5):277-86. Epub 2009 Jul 10. \n",
      "\n",
      "PubMedID: 9020845\n",
      "Título: Human KVLQT1 gene shows tissue-specific imprinting and encompasses Beckwith-Wiedemann syndrome chromosomal rearrangements.\n",
      "Autores: ['Lee MP', 'Hu RJ', 'Johnson LA', 'Feinberg AP']\n",
      "Source: Nat Genet. 1997 Feb;15(2):181-5. doi: 10.1038/ng0297-181. \n",
      "\n",
      "PubMedID: 8818942\n",
      "Título: Evidence of a long QT founder gene with varying phenotypic expression in South African families.\n",
      "Autores: ['de Jager T', 'Corbett CH', 'Badenhorst JC', 'Brink PA', 'Corfield VA']\n",
      "Source: J Med Genet. 1996 Jul;33(7):567-73. doi: 10.1136/jmg.33.7.567. \n",
      "\n",
      "PubMedID: 8528244\n",
      "Título: Positional cloning of a novel potassium channel gene: KVLQT1 mutations cause cardiac arrhythmias.\n",
      "Autores: ['Wang Q', 'Curran ME', 'Splawski I', 'Burn TC', 'Millholland JM', 'VanRaay TJ', 'Shen J', 'Timothy KW', 'Vincent GM', 'de Jager T', 'Schwartz PJ', 'Toubin JA', 'Moss AJ', 'Atkinson DL', 'Landes GM', 'Connors TD', 'Keating MT']\n",
      "Source: Nat Genet. 1996 Jan;12(1):17-23. doi: 10.1038/ng0196-17. \n",
      "\n",
      "PubMedID: 20301579\n",
      "Título: Jervell and Lange-Nielsen Syndrome.\n",
      "Autores: ['Tranebjaerg L', 'Samson RA', 'Green GE']\n"
     ]
    },
    {
     "ename": "KeyError",
     "evalue": "'SO'",
     "output_type": "error",
     "traceback": [
      "\u001b[1;31m---------------------------------------------------------------------------\u001b[0m",
      "\u001b[1;31mKeyError\u001b[0m                                  Traceback (most recent call last)",
      "Cell \u001b[1;32mIn[18], line 8\u001b[0m\n\u001b[0;32m      6\u001b[0m \u001b[39mprint\u001b[39m(\u001b[39m\"\u001b[39m\u001b[39mTítulo:\u001b[39m\u001b[39m\"\u001b[39m, record[\u001b[39m'\u001b[39m\u001b[39mTI\u001b[39m\u001b[39m'\u001b[39m])\n\u001b[0;32m      7\u001b[0m \u001b[39mprint\u001b[39m(\u001b[39m\"\u001b[39m\u001b[39mAutores:\u001b[39m\u001b[39m\"\u001b[39m, record[\u001b[39m'\u001b[39m\u001b[39mAU\u001b[39m\u001b[39m'\u001b[39m])\n\u001b[1;32m----> 8\u001b[0m \u001b[39mprint\u001b[39m(\u001b[39m\"\u001b[39m\u001b[39mSource:\u001b[39m\u001b[39m\"\u001b[39m, record[\u001b[39m'\u001b[39;49m\u001b[39mSO\u001b[39;49m\u001b[39m'\u001b[39;49m],\u001b[39m'\u001b[39m\u001b[39m\\n\u001b[39;00m\u001b[39m'\u001b[39m)\n",
      "\u001b[1;31mKeyError\u001b[0m: 'SO'"
     ]
    }
   ],
   "source": [
    "handle = Entrez.efetch(db=\"pubmed\", id=ids_isoforma, rettype=\"medline\", retmode=\"text\")\n",
    "records = list(Medline.parse(handle))\n",
    "print(\"Artigos\", \"\\n\")\n",
    "for record in records:\n",
    "    if len(record) == 0:\n",
    "    print(\"PubMedID:\", record['PMID'])\n",
    "    print(\"Título:\", record['TI'])\n",
    "    print(\"Autores:\", record['AU'])\n",
    "    print(\"Source:\", record['SO'],'\\n')\n",
    "    \n",
    "    "
   ]
  }
 ],
 "metadata": {
  "kernelspec": {
   "display_name": "Python 3",
   "language": "python",
   "name": "python3"
  },
  "language_info": {
   "codemirror_mode": {
    "name": "ipython",
    "version": 3
   },
   "file_extension": ".py",
   "mimetype": "text/x-python",
   "name": "python",
   "nbconvert_exporter": "python",
   "pygments_lexer": "ipython3",
   "version": "3.10.8 (tags/v3.10.8:aaaf517, Oct 11 2022, 16:50:30) [MSC v.1933 64 bit (AMD64)]"
  },
  "orig_nbformat": 4,
  "vscode": {
   "interpreter": {
    "hash": "3c32c0614abf3f383ac5434e7f67efdcfdcd21ab2cebdd1098cd7517da000a33"
   }
  }
 },
 "nbformat": 4,
 "nbformat_minor": 2
}
