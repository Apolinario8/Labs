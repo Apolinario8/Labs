{
 "cells": [
  {
   "cell_type": "code",
   "execution_count": 1,
   "metadata": {},
   "outputs": [],
   "source": [
    "from Bio import Entrez\n",
    "from Bio import SeqIO\n",
    "from Bio import Seq\n",
    "from Bio import Medline"
   ]
  },
  {
   "cell_type": "code",
   "execution_count": null,
   "metadata": {},
   "outputs": [],
   "source": [
    "pesquisa = input()"
   ]
  },
  {
   "cell_type": "code",
   "execution_count": null,
   "metadata": {},
   "outputs": [],
   "source": [
    "Entrez.email = \"goncalocardoso2016@gmail.com\"                              \n",
    "handle = Entrez.esearch(db = \"pubmed\", term = pesquisa)\n",
    "record = Entrez.read(handle)\n",
    "count = record['Count']\n",
    "handle = Entrez.esearch(db = \"pubmed\", term = pesquisa, retmax = count, sort = \"relevance\")\n",
    "record = Entrez.read(handle)\n",
    "handle.close()\n",
    "id_list = record['IdList']\n",
    "print(record['Count'])\n",
    "print(id_list)"
   ]
  },
  {
   "cell_type": "code",
   "execution_count": null,
   "metadata": {},
   "outputs": [],
   "source": [
    "handle = Entrez.efetch(db=\"pubmed\", id=id_list, rettype=\"medline\", retmode=\"text\")\n",
    "records = list(Medline.parse(handle))\n",
    "print(\"Artigos\", \"\\n\")\n",
    "for record in records:\n",
    "    print(\"Título:\", record['TI'])\n",
    "    print(\"Autores:\", record['AU'])\n",
    "    print(\"Source:\", record['SO'],'\\n')"
   ]
  }
 ],
 "metadata": {
  "kernelspec": {
   "display_name": "Python 3",
   "language": "python",
   "name": "python3"
  },
  "language_info": {
   "codemirror_mode": {
    "name": "ipython",
    "version": 3
   },
   "file_extension": ".py",
   "mimetype": "text/x-python",
   "name": "python",
   "nbconvert_exporter": "python",
   "pygments_lexer": "ipython3",
   "version": "3.10.7"
  },
  "orig_nbformat": 4,
  "vscode": {
   "interpreter": {
    "hash": "4e1fc3fa23fb62f3f701e1450a48be1e01c4f473533356521fe76f63c343b8fd"
   }
  }
 },
 "nbformat": 4,
 "nbformat_minor": 2
}
